{
 "cells": [
  {
   "cell_type": "code",
   "execution_count": 1,
   "id": "ff9c311a-bbe3-4437-8853-8656eaafe19d",
   "metadata": {},
   "outputs": [],
   "source": [
    "import pandas as pd\n",
    "import torch\n",
    "import torch.nn as nn\n",
    "import torch.optim as optim\n",
    "import torch.nn.functional as F\n",
    "from sklearn.model_selection import train_test_split\n",
    "import numpy as np"
   ]
  },
  {
   "cell_type": "code",
   "execution_count": 2,
   "id": "ac284d66-405a-4cf0-92a5-0642c2db9631",
   "metadata": {},
   "outputs": [],
   "source": [
    "#arquitectura neuronal\n",
    "class HaloToGalaxyModel(nn.Module):\n",
    "    def __init__(self, input_size=4, output_size=50, hidden_dim=64):\n",
    "        super(HaloToGalaxyModel, self).__init__()\n",
    "        self.fc1 = nn.Linear(input_size, hidden_dim)\n",
    "        self.fc2 = nn.Linear(hidden_dim, hidden_dim)\n",
    "        self.fc3 = nn.Linear(hidden_dim, output_size)\n",
    "        \n",
    "    def forward(self, x):\n",
    "        x = F.relu(self.fc1(x))\n",
    "        x = F.relu(self.fc2(x))\n",
    "        x = self.fc3(x)  \n",
    "        return F.softmax(x, dim=1)\n",
    "\n",
    "# Función para cargar datos desde un CSV\n",
    "def load_data_from_csv(file_path):\n",
    "    data = pd.read_csv(file_path)\n",
    "    X = data.iloc[:, 5:10].values  \n",
    "    #y = data.iloc[:, 12:16].values  \n",
    "    y = data.iloc[:, 12].values  #esto sólo carga la masa, la gracia es que para cada modelo usar un única columa\n",
    "    return X, y\n",
    "\n",
    "\n",
    "class customLossYan(nn.Module):\n",
    "    def __init__(self, quantiles):\n",
    "        super(customLossYan, self).__init__()\n",
    "        self.quantiles = quantiles\n",
    "\n",
    "    def forward(self, y_true, y_pred):\n",
    "        y_true_one_hot = F.one_hot(y_true, num_classes=y_pred.size(1)).float()\n",
    "        losses = []\n",
    "        for q in self.quantiles:\n",
    "            errors = y_true_one_hot - y_pred\n",
    "            losses.append(\n",
    "                torch.max((q - 1) * errors, q * errors)\n",
    "            )\n",
    "        loss = torch.mean(torch.sum(torch.stack(losses, dim=2), dim=2))\n",
    "        return loss\n"
   ]
  },
  {
   "cell_type": "code",
   "execution_count": 3,
   "id": "1e59c21d-8574-495f-a112-361179d3a11b",
   "metadata": {},
   "outputs": [],
   "source": [
    "#cargar datos\n",
    "file_path = 'datasetcompleto.csv'  \n",
    "X, y = load_data_from_csv(file_path)"
   ]
  },
  {
   "cell_type": "code",
   "execution_count": 4,
   "id": "70941a9c-b5bc-4470-831e-585d6300581c",
   "metadata": {
    "scrolled": true
   },
   "outputs": [
    {
     "name": "stdout",
     "output_type": "stream",
     "text": [
      "cuda\n"
     ]
    }
   ],
   "source": [
    "k = 50 #división de bins, 50 es lo que dice el paper\n",
    "device = torch.device('cuda' if torch.cuda.is_available() else 'cpu')\n",
    "print(device)"
   ]
  },
  {
   "cell_type": "code",
   "execution_count": 5,
   "id": "c81f884e-ff8a-43cb-afae-b30561606814",
   "metadata": {
    "scrolled": true
   },
   "outputs": [],
   "source": [
    "#transformar etiquetas a bins para problema de clasificacion\n",
    "bins = np.linspace(y.min(), y.max(), k + 1)\n",
    "y_binned = np.digitize(y, bins) - 1\n",
    "X = torch.tensor(X, dtype=torch.float32).to(device)\n",
    "y = torch.tensor(y_binned, dtype=torch.long).to(device)"
   ]
  },
  {
   "cell_type": "code",
   "execution_count": 9,
   "id": "640916ef-c3fa-412d-987b-8678329b529d",
   "metadata": {},
   "outputs": [],
   "source": [
    "X_train, X_test, y_train, y_test = train_test_split(X, y, test_size=0.2, random_state=42)\n",
    "\n",
    "hidden_dim = 64 #tamaño de las capas ocultas\n",
    "\n",
    "model = HaloToGalaxyModel(X.shape[1], k, hidden_dim).to(device)\n",
    "criterion = customLossYan(bins)  # Función de pérdida de entropía cruzada\n",
    "optimizer = optim.Adam(model.parameters(), lr=0.002)"
   ]
  },
  {
   "cell_type": "code",
   "execution_count": 10,
   "id": "dde7701a-1bdc-43d2-9581-880cf81264ef",
   "metadata": {},
   "outputs": [
    {
     "name": "stdout",
     "output_type": "stream",
     "text": [
      "Epoch [10/1000], Loss: 0.9713\n",
      "Epoch [20/1000], Loss: 0.9492\n",
      "Epoch [30/1000], Loss: 0.9479\n",
      "Epoch [40/1000], Loss: 0.9479\n",
      "Epoch [50/1000], Loss: 0.9479\n",
      "Epoch [60/1000], Loss: 0.9479\n",
      "Epoch [70/1000], Loss: 0.9479\n",
      "Epoch [80/1000], Loss: 0.9479\n",
      "Epoch [90/1000], Loss: 0.9479\n",
      "Epoch [100/1000], Loss: 0.9479\n",
      "Epoch [110/1000], Loss: 0.9479\n",
      "Epoch [120/1000], Loss: 0.9479\n",
      "Epoch [130/1000], Loss: 0.9479\n",
      "Epoch [140/1000], Loss: 0.9479\n",
      "Epoch [150/1000], Loss: 0.9479\n",
      "Epoch [160/1000], Loss: 0.9479\n",
      "Epoch [170/1000], Loss: 0.9479\n",
      "Epoch [180/1000], Loss: 0.9479\n",
      "Epoch [190/1000], Loss: 0.9479\n",
      "Epoch [200/1000], Loss: 0.9479\n",
      "Epoch [210/1000], Loss: 0.9479\n",
      "Epoch [220/1000], Loss: 0.9479\n",
      "Epoch [230/1000], Loss: 0.9479\n",
      "Epoch [240/1000], Loss: 0.9479\n",
      "Epoch [250/1000], Loss: 0.9479\n",
      "Epoch [260/1000], Loss: 0.9479\n",
      "Epoch [270/1000], Loss: 0.9479\n",
      "Epoch [280/1000], Loss: 0.9479\n",
      "Epoch [290/1000], Loss: 0.9479\n",
      "Epoch [300/1000], Loss: 0.9479\n",
      "Epoch [310/1000], Loss: 0.9479\n",
      "Epoch [320/1000], Loss: 0.9479\n",
      "Epoch [330/1000], Loss: 0.9479\n",
      "Epoch [340/1000], Loss: 0.9479\n",
      "Epoch [350/1000], Loss: 0.9479\n",
      "Epoch [360/1000], Loss: 0.9479\n",
      "Epoch [370/1000], Loss: 0.9479\n",
      "Epoch [380/1000], Loss: 0.9479\n",
      "Epoch [390/1000], Loss: 0.9479\n",
      "Epoch [400/1000], Loss: 0.9479\n",
      "Epoch [410/1000], Loss: 0.9479\n",
      "Epoch [420/1000], Loss: 0.9479\n",
      "Epoch [430/1000], Loss: 0.9479\n",
      "Epoch [440/1000], Loss: 0.9479\n",
      "Epoch [450/1000], Loss: 0.9479\n",
      "Epoch [460/1000], Loss: 0.9479\n",
      "Epoch [470/1000], Loss: 0.9479\n",
      "Epoch [480/1000], Loss: 0.9479\n",
      "Epoch [490/1000], Loss: 0.9479\n",
      "Epoch [500/1000], Loss: 0.9479\n",
      "Epoch [510/1000], Loss: 0.9479\n",
      "Epoch [520/1000], Loss: 0.9479\n",
      "Epoch [530/1000], Loss: 0.9479\n",
      "Epoch [540/1000], Loss: 0.9479\n",
      "Epoch [550/1000], Loss: 0.9479\n",
      "Epoch [560/1000], Loss: 0.9479\n",
      "Epoch [570/1000], Loss: 0.9479\n",
      "Epoch [580/1000], Loss: 0.9479\n",
      "Epoch [590/1000], Loss: 0.9479\n",
      "Epoch [600/1000], Loss: 0.9479\n",
      "Epoch [610/1000], Loss: 0.9479\n",
      "Epoch [620/1000], Loss: 0.9479\n",
      "Epoch [630/1000], Loss: 0.9479\n",
      "Epoch [640/1000], Loss: 0.9479\n",
      "Epoch [650/1000], Loss: 0.9479\n",
      "Epoch [660/1000], Loss: 0.9479\n",
      "Epoch [670/1000], Loss: 0.9479\n",
      "Epoch [680/1000], Loss: 0.9479\n",
      "Epoch [690/1000], Loss: 0.9479\n",
      "Epoch [700/1000], Loss: 0.9479\n",
      "Epoch [710/1000], Loss: 0.9479\n",
      "Epoch [720/1000], Loss: 0.9479\n",
      "Epoch [730/1000], Loss: 0.9479\n",
      "Epoch [740/1000], Loss: 0.9479\n",
      "Epoch [750/1000], Loss: 0.9479\n",
      "Epoch [760/1000], Loss: 0.9479\n",
      "Epoch [770/1000], Loss: 0.9479\n",
      "Epoch [780/1000], Loss: 0.9479\n",
      "Epoch [790/1000], Loss: 0.9479\n",
      "Epoch [800/1000], Loss: 0.9479\n",
      "Epoch [810/1000], Loss: 0.9479\n",
      "Epoch [820/1000], Loss: 0.9479\n",
      "Epoch [830/1000], Loss: 0.9479\n",
      "Epoch [840/1000], Loss: 0.9479\n",
      "Epoch [850/1000], Loss: 0.9479\n",
      "Epoch [860/1000], Loss: 0.9479\n",
      "Epoch [870/1000], Loss: 0.9479\n",
      "Epoch [880/1000], Loss: 0.9479\n",
      "Epoch [890/1000], Loss: 0.9479\n",
      "Epoch [900/1000], Loss: 0.9479\n",
      "Epoch [910/1000], Loss: 0.9479\n",
      "Epoch [920/1000], Loss: 0.9479\n",
      "Epoch [930/1000], Loss: 0.9479\n",
      "Epoch [940/1000], Loss: 0.9479\n",
      "Epoch [950/1000], Loss: 0.9479\n",
      "Epoch [960/1000], Loss: 0.9479\n",
      "Epoch [970/1000], Loss: 0.9479\n",
      "Epoch [980/1000], Loss: 0.9479\n",
      "Epoch [990/1000], Loss: 0.9479\n",
      "Epoch [1000/1000], Loss: 0.9479\n"
     ]
    }
   ],
   "source": [
    "num_epochs = 1000\n",
    "for epoch in range(num_epochs):\n",
    "    model.train()  \n",
    "    optimizer.zero_grad() \n",
    "    outputs = model(X_train)     \n",
    "    loss = criterion(y_train,outputs)\n",
    "    loss.backward() \n",
    "    optimizer.step()     \n",
    "\n",
    "    if (epoch+1) % 10 == 0:\n",
    "        print(f'Epoch [{epoch+1}/{num_epochs}], Loss: {loss.item():.4f}')\n",
    "\n",
    "torch.save(model.state_dict(), 'halo_to_galaxy_model.pth')\n"
   ]
  },
  {
   "cell_type": "code",
   "execution_count": 8,
   "id": "f084434b-d31d-44ef-a785-72499bbb70e3",
   "metadata": {},
   "outputs": [
    {
     "name": "stdout",
     "output_type": "stream",
     "text": [
      "Accuracy: 7.00%\n"
     ]
    }
   ],
   "source": [
    "model.eval()  \n",
    "with torch.no_grad():\n",
    "    outputs = model(X_test)\n",
    "    _, predicted = torch.max(outputs, 1)\n",
    "    accuracy = (predicted == y_test).sum().item() / y_test.size(0)\n",
    "    print(f'Accuracy: {accuracy * 100:.2f}%')"
   ]
  },
  {
   "cell_type": "code",
   "execution_count": null,
   "id": "27ef1d10-fc0c-4fe3-ac33-52630492e867",
   "metadata": {},
   "outputs": [],
   "source": []
  }
 ],
 "metadata": {
  "kernelspec": {
   "display_name": "Python 3 (ipykernel)",
   "language": "python",
   "name": "python3"
  },
  "language_info": {
   "codemirror_mode": {
    "name": "ipython",
    "version": 3
   },
   "file_extension": ".py",
   "mimetype": "text/x-python",
   "name": "python",
   "nbconvert_exporter": "python",
   "pygments_lexer": "ipython3",
   "version": "3.12.3"
  }
 },
 "nbformat": 4,
 "nbformat_minor": 5
}
