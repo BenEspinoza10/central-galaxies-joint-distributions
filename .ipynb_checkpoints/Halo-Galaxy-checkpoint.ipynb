{
 "cells": [
  {
   "cell_type": "code",
   "execution_count": 67,
   "metadata": {},
   "outputs": [],
   "source": [
    "import h5py\n",
    "import numpy as np"
   ]
  },
  {
   "cell_type": "markdown",
   "metadata": {},
   "source": [
    "# Lectura"
   ]
  },
  {
   "cell_type": "code",
   "execution_count": 68,
   "metadata": {},
   "outputs": [],
   "source": [
    "# Función para listar todos los grupos y datasets\n",
    "def listar_grupos_datasets(grupo, nivel=0):\n",
    "    for nombre, obj in grupo.items():\n",
    "        espaciado = \"  \" * nivel\n",
    "        if isinstance(obj, h5py.Group):\n",
    "            print(f\"{espaciado}Grupo: {nombre}\")\n",
    "            listar_grupos_datasets(obj, nivel + 1)\n",
    "        elif isinstance(obj, h5py.Dataset):\n",
    "            print(f\"{espaciado}Dataset: {nombre}\")"
   ]
  },
  {
   "cell_type": "code",
   "execution_count": 69,
   "metadata": {},
   "outputs": [
    {
     "name": "stdout",
     "output_type": "stream",
     "text": [
      "Grupos en el archivo: ['Groups', 'SubGroups']\n",
      "Grupo: Groups\n",
      "  Dataset: Density_3\n",
      "  Dataset: Density_5\n",
      "  Dataset: Density_8\n",
      "  Dataset: GrNr_halo\n",
      "  Dataset: GroupPos\n",
      "  Dataset: Group_M_Crit200\n",
      "  Dataset: Spin\n",
      "  Dataset: c200\n",
      "  Dataset: zform\n",
      "Grupo: SubGroups\n",
      "  Dataset: SubhaloCM\n",
      "  Dataset: SubhaloGrNr\n",
      "  Dataset: SubhaloHalfmassRad\n",
      "  Dataset: SubhaloHalfmassRadType\n",
      "  Dataset: SubhaloMassInHalfRadType\n",
      "  Dataset: SubhaloMassType\n",
      "  Dataset: SubhaloPos\n",
      "  Dataset: SubhaloSFR\n",
      "  Dataset: SubhaloSFRinHalfRad\n",
      "  Dataset: SubhaloStellarPhotometrics_g\n",
      "  Dataset: SubhaloStellarPhotometrics_i\n",
      "  Dataset: SubhaloStellarPhotometrics_r\n",
      "  Dataset: SubhaloStellarPhotometrics_z\n",
      "  Dataset: SubhaloVel\n",
      "  Dataset: SubhaloVelDisp\n",
      "  Dataset: SubhaloVmax\n",
      "  Dataset: SubhaloVmaxRad\n",
      "  Dataset: Subhalo_JdmInHalfRad\n",
      "  Dataset: Subhalo_JdmInRad\n",
      "  Dataset: Subhalo_JgasInHalfRad\n",
      "  Dataset: Subhalo_JgasInRad\n",
      "  Dataset: Subhalo_JstarsInHalfRad\n",
      "  Dataset: Subhalo_JstarsInRad\n",
      "  Dataset: Subhalo_mdmInHalfRad\n",
      "  Dataset: Subhalo_mdmInRad\n",
      "  Dataset: Subhalo_mgasInHalfRad\n",
      "  Dataset: Subhalo_mgasInRad\n",
      "  Dataset: Subhalo_mstarsInHalfRad\n",
      "  Dataset: Subhalo_mstarsInRad\n"
     ]
    }
   ],
   "source": [
    "# Abre el archivo en modo lectura\n",
    "with h5py.File('Table_TNG300_snapshot99_wSpins_wEnv_ALL.hdf5', 'r') as archivo:\n",
    "    # Lista los nombres de todos los grupos en el archivo\n",
    "    print(\"Grupos en el archivo:\", list(archivo.keys()))\n",
    "    \n",
    "    # Recorre los grupos y datasets para imprimir sus nombres\n",
    "    listar_grupos_datasets(archivo)"
   ]
  },
  {
   "cell_type": "code",
   "execution_count": 70,
   "metadata": {},
   "outputs": [
    {
     "name": "stdout",
     "output_type": "stream",
     "text": [
      "Datos del dataset: 12.481633\n",
      "Largo de la matriz: (511544,)\n"
     ]
    }
   ],
   "source": [
    "with h5py.File('Table_TNG300_snapshot99_wSpins_wEnv_ALL.hdf5', 'r') as archivo:\n",
    "\n",
    "    dataset = archivo['Groups/Group_M_Crit200']\n",
    "    \n",
    "\n",
    "    datos = dataset[:]\n",
    "    print(\"Datos del dataset:\", np.log10(datos[9906]))\n",
    "    print(\"Largo de la matriz:\", datos.shape)"
   ]
  },
  {
   "cell_type": "markdown",
   "metadata": {},
   "source": [
    "**Groups/Density_3**: Delta3_h, tal cual.  \n",
    "**Groups/Density_5**: No se usa.  \n",
    "**Groups/Density_8**: No se usa.  \n",
    "**Groups/GrNr_halo**: ID del subhalo.  \n",
    "**Groups/GroupPos**:  \n",
    "[0]: X_h * 10^3  \n",
    "[1]: Y_h * 10^3  \n",
    "[2]: Z_h * 10^3  \n",
    "**Groups/Group_M_Crit200**: 1eM_h, aplicar log_10(dato) para sacar M_h.  \n",
    "**Groups/Spin**: S_h, tal cual.  \n",
    "**Groups/c200**: 1eC_h, aplicar log_10(dato) para sacar C_h.  \n",
    "**Groups/zform**: z_h, tal cual.  \n"
   ]
  }
 ],
 "metadata": {
  "kernelspec": {
   "display_name": "Python 3",
   "language": "python",
   "name": "python3"
  },
  "language_info": {
   "codemirror_mode": {
    "name": "ipython",
    "version": 3
   },
   "file_extension": ".py",
   "mimetype": "text/x-python",
   "name": "python",
   "nbconvert_exporter": "python",
   "pygments_lexer": "ipython3",
   "version": "3.10.12"
  }
 },
 "nbformat": 4,
 "nbformat_minor": 2
}
