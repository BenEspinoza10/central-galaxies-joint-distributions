{
 "cells": [
  {
   "cell_type": "code",
   "execution_count": 1,
   "metadata": {},
   "outputs": [
    {
     "name": "stderr",
     "output_type": "stream",
     "text": [
      "2024-08-01 13:57:26.583193: I tensorflow/core/platform/cpu_feature_guard.cc:210] This TensorFlow binary is optimized to use available CPU instructions in performance-critical operations.\n",
      "To enable the following instructions: SSE4.1 SSE4.2 AVX AVX2 FMA, in other operations, rebuild TensorFlow with the appropriate compiler flags.\n"
     ]
    }
   ],
   "source": [
    "import numpy as np\n",
    "import pandas as pd\n",
    "\n",
    "from sklearn.model_selection import train_test_split\n",
    "from sklearn.preprocessing import OneHotEncoder\n",
    "from keras.models import load_model\n"
   ]
  },
  {
   "cell_type": "code",
   "execution_count": 2,
   "metadata": {},
   "outputs": [],
   "source": [
    "def sample_2D(probs):\n",
    "    \"\"\"\n",
    "    Sample galaxies according to joint distribution P(x, y) (2D).\n",
    "    A galaxy is a pair of properties (x, y).\n",
    "\n",
    "    :param probs: probabilities\n",
    "    :type probs: numpy.array; shape = (nbin x nbin)\n",
    "    :param nbin: number of bins in each dimension\n",
    "    :type nbin: int\n",
    "\n",
    "    :return: (x, y) coordinates in the target map for the galaxy in probs\n",
    "    :rtype: numpy.array, numpy.array\n",
    "    \"\"\"\n",
    "    nbin = 50\n",
    "    # Bin indices\n",
    "    vec = np.arange(0, int(nbin**2), 1)\n",
    "\n",
    "    # Pick the galaxy's PDF\n",
    "    probs_round = np.round(probs * 1000)\n",
    "\n",
    "    # List with bin indices. The PDF dictates the number of times each bin appears.\n",
    "    bin_to_sample = np.repeat(vec, probs_round.astype(int))\n",
    "\n",
    "    # Now we draw a number from the above list. The number correspond to the bin index.\n",
    "    choice = np.random.choice(bin_to_sample)\n",
    "\n",
    "    # Back: identify the bin in the grid nbin x nbin\n",
    "    choice_m = np.eye(int(nbin**2))[choice]\n",
    "    choice_m = choice_m.reshape(nbin, nbin)\n",
    "\n",
    "    # Identify y and x corresponding to the bin\n",
    "    y_sampled, x_sampled = np.where(choice_m != 0)\n",
    "\n",
    "    return y_sampled, x_sampled\n"
   ]
  },
  {
   "cell_type": "code",
   "execution_count": 3,
   "metadata": {},
   "outputs": [],
   "source": [
    "def discretize_inverse(prop_values, prop_name):\n",
    "    \"\"\"\n",
    "    Associate galaxy property value to bin index (class).\n",
    "\n",
    "    :param prop_values: bin indices (classes) to be converted into continuous value\n",
    "    :type prop_values: numpy.array\n",
    "    :param prop_name: 'smass', 'color', 'sSFR' or 'radius'\n",
    "    :type prop_name: str\n",
    "\n",
    "    :return: values of the properties for each data set element\n",
    "    :rtype: numpy.array\n",
    "    \"\"\"\n",
    "    \n",
    "    edges = pd.read_csv('../../data/bin_edges.csv'.format(nbin))[prop_name].to_numpy()\n",
    "    means = pd.read_csv('../../data/bin_means.csv'.format(nbin))[prop_name].to_numpy()\n",
    "\n",
    "    values_prop = []\n",
    "\n",
    "    for v in prop_values:\n",
    "        values_prop.append(means[v])\n",
    "\n",
    "    return np.array(values_prop)"
   ]
  },
  {
   "cell_type": "code",
   "execution_count": 4,
   "metadata": {},
   "outputs": [],
   "source": [
    "X_test = pd.read_csv('../data/splited/X_test.csv')"
   ]
  },
  {
   "cell_type": "code",
   "execution_count": 5,
   "metadata": {},
   "outputs": [],
   "source": [
    "x_df = X_test.to_numpy()"
   ]
  },
  {
   "cell_type": "code",
   "execution_count": 6,
   "metadata": {},
   "outputs": [
    {
     "name": "stderr",
     "output_type": "stream",
     "text": [
      "/home/iogurth/miniconda3/envs/keras-env/lib/python3.11/site-packages/keras/src/layers/core/dense.py:87: UserWarning: Do not pass an `input_shape`/`input_dim` argument to a layer. When using Sequential models, prefer using an `Input(shape)` object as the first layer in the model instead.\n",
      "  super().__init__(activity_regularizer=activity_regularizer, **kwargs)\n",
      "/home/iogurth/miniconda3/envs/keras-env/lib/python3.11/site-packages/keras/src/optimizers/base_optimizer.py:33: UserWarning: Argument `decay` is no longer supported and will be ignored.\n",
      "  warnings.warn(\n",
      "WARNING:absl:Compiled the loaded model, but the compiled metrics have yet to be built. `model.compile_metrics` will be empty until you train or evaluate the model.\n",
      "WARNING:absl:Error in loading the saved optimizer state. As a result, your model is starting with a freshly initialized optimizer.\n"
     ]
    }
   ],
   "source": [
    "model = load_model('../../models/color_smass_model.h5')"
   ]
  },
  {
   "cell_type": "code",
   "execution_count": 7,
   "metadata": {},
   "outputs": [
    {
     "name": "stdout",
     "output_type": "stream",
     "text": [
      "\u001b[1m1630/1630\u001b[0m \u001b[32m━━━━━━━━━━━━━━━━━━━━\u001b[0m\u001b[37m\u001b[0m \u001b[1m7s\u001b[0m 4ms/step\n"
     ]
    },
    {
     "name": "stderr",
     "output_type": "stream",
     "text": [
      "2024-08-01 13:57:35.979925: W external/local_tsl/tsl/framework/cpu_allocator_impl.cc:83] Allocation of 521500000 exceeds 10% of free system memory.\n"
     ]
    }
   ],
   "source": [
    "pred_list = model.predict(x_df)"
   ]
  },
  {
   "cell_type": "code",
   "execution_count": 8,
   "metadata": {},
   "outputs": [
    {
     "data": {
      "text/plain": [
       "(52150, 2500)"
      ]
     },
     "execution_count": 8,
     "metadata": {},
     "output_type": "execute_result"
    }
   ],
   "source": [
    "pred_list.shape"
   ]
  },
  {
   "cell_type": "code",
   "execution_count": 9,
   "metadata": {},
   "outputs": [],
   "source": [
    "smass = []\n",
    "color = []"
   ]
  },
  {
   "cell_type": "code",
   "execution_count": 10,
   "metadata": {},
   "outputs": [],
   "source": [
    "x_name = 'smass'  # x-axis property, X1\n",
    "y_name = 'color'  # y-axis property, X2\n",
    "nbin = 50"
   ]
  },
  {
   "cell_type": "code",
   "execution_count": 11,
   "metadata": {},
   "outputs": [],
   "source": [
    "for pred in pred_list:\n",
    "    y_values, x_values = sample_2D(pred)\n",
    "    y_values_prop = discretize_inverse(y_values, y_name)\n",
    "    x_values_prop = discretize_inverse(x_values, x_name)\n",
    "    smass.append(x_values_prop[0])\n",
    "    color.append(y_values_prop[0])"
   ]
  },
  {
   "cell_type": "code",
   "execution_count": 12,
   "metadata": {},
   "outputs": [],
   "source": [
    "smass_nparr = np.array(smass)\n",
    "color_nparr = np.array(color)"
   ]
  },
  {
   "cell_type": "code",
   "execution_count": 13,
   "metadata": {},
   "outputs": [],
   "source": [
    "if smass_nparr.ndim == 1:\n",
    "    smass_nparr = np.expand_dims(smass_nparr, axis=1)\n",
    "\n",
    "if color_nparr.ndim == 1:\n",
    "    color_nparr = np.expand_dims(color_nparr, axis=1)\n"
   ]
  },
  {
   "cell_type": "code",
   "execution_count": 14,
   "metadata": {},
   "outputs": [],
   "source": [
    "concat = np.concatenate((smass_nparr,color_nparr), axis=1)"
   ]
  },
  {
   "cell_type": "code",
   "execution_count": 15,
   "metadata": {},
   "outputs": [
    {
     "data": {
      "text/plain": [
       "array([[ 8.7925,  0.5664],\n",
       "       [ 8.8775,  0.5968],\n",
       "       [ 9.3875,  0.4448],\n",
       "       ...,\n",
       "       [ 9.0475,  0.384 ],\n",
       "       [10.1525,  0.5968],\n",
       "       [10.0675,  0.7184]])"
      ]
     },
     "execution_count": 15,
     "metadata": {},
     "output_type": "execute_result"
    }
   ],
   "source": [
    "concat"
   ]
  },
  {
   "cell_type": "code",
   "execution_count": 16,
   "metadata": {},
   "outputs": [],
   "source": [
    "df = pd.DataFrame(concat, columns=['stellar_mass', 'color_g_i'])\n",
    "\n",
    "# Guarda el DataFrame en un archivo CSV\n",
    "df.to_csv('../data/output_paper.csv', index=False)"
   ]
  }
 ],
 "metadata": {
  "kernelspec": {
   "display_name": "Python 3",
   "language": "python",
   "name": "python3"
  },
  "language_info": {
   "codemirror_mode": {
    "name": "ipython",
    "version": 3
   },
   "file_extension": ".py",
   "mimetype": "text/x-python",
   "name": "python",
   "nbconvert_exporter": "python",
   "pygments_lexer": "ipython3",
   "version": "3.11.8"
  }
 },
 "nbformat": 4,
 "nbformat_minor": 2
}
