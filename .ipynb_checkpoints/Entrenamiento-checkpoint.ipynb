{
 "cells": [
  {
   "cell_type": "code",
   "execution_count": 1,
   "id": "ff9c311a-bbe3-4437-8853-8656eaafe19d",
   "metadata": {},
   "outputs": [
    {
     "ename": "ImportError",
     "evalue": "cannot import name 'mean_absolute_percentage_error' from 'sklearn.metrics' (/home/ben/anaconda3/envs/galaxias/lib/python3.8/site-packages/sklearn/metrics/__init__.py)",
     "output_type": "error",
     "traceback": [
      "\u001b[0;31m---------------------------------------------------------------------------\u001b[0m",
      "\u001b[0;31mImportError\u001b[0m                               Traceback (most recent call last)",
      "Cell \u001b[0;32mIn[1], line 9\u001b[0m\n\u001b[1;32m      7\u001b[0m \u001b[38;5;28;01mimport\u001b[39;00m \u001b[38;5;21;01mnumpy\u001b[39;00m \u001b[38;5;28;01mas\u001b[39;00m \u001b[38;5;21;01mnp\u001b[39;00m\n\u001b[1;32m      8\u001b[0m \u001b[38;5;28;01mfrom\u001b[39;00m \u001b[38;5;21;01mscipy\u001b[39;00m\u001b[38;5;21;01m.\u001b[39;00m\u001b[38;5;21;01mstats\u001b[39;00m \u001b[38;5;28;01mimport\u001b[39;00m ks_2samp\n\u001b[0;32m----> 9\u001b[0m \u001b[38;5;28;01mfrom\u001b[39;00m \u001b[38;5;21;01msklearn\u001b[39;00m\u001b[38;5;21;01m.\u001b[39;00m\u001b[38;5;21;01mmetrics\u001b[39;00m \u001b[38;5;28;01mimport\u001b[39;00m mean_absolute_error, r2_score, median_absolute_error, mean_absolute_percentage_error\n",
      "\u001b[0;31mImportError\u001b[0m: cannot import name 'mean_absolute_percentage_error' from 'sklearn.metrics' (/home/ben/anaconda3/envs/galaxias/lib/python3.8/site-packages/sklearn/metrics/__init__.py)"
     ]
    }
   ],
   "source": [
    "import pandas as pd\n",
    "import torch\n",
    "import torch.nn as nn\n",
    "import torch.optim as optim\n",
    "import torch.nn.functional as F\n",
    "from sklearn.model_selection import train_test_split\n",
    "import numpy as np\n",
    "from scipy.stats import ks_2samp\n",
    "from sklearn.metrics import mean_absolute_error, r2_score, median_absolute_error, mean_absolute_percentage_error"
   ]
  },
  {
   "cell_type": "code",
   "execution_count": 4,
   "id": "ac284d66-405a-4cf0-92a5-0642c2db9631",
   "metadata": {},
   "outputs": [],
   "source": [
    "#arquitectura neuronal\n",
    "class HaloToGalaxyModel(nn.Module):\n",
    "    def __init__(self, input_size=4, output_size=1, hidden_dim=64):\n",
    "        super(HaloToGalaxyModel, self).__init__()\n",
    "        self.fc1 = nn.Linear(input_size, hidden_dim) \n",
    "        self.fc2 = nn.Linear(hidden_dim, hidden_dim) \n",
    "        self.fc3 = nn.Linear(hidden_dim, output_size)\n",
    "        \n",
    "    def forward(self, x):\n",
    "        x = F.relu(self.fc1(x))\n",
    "        x = F.relu(self.fc2(x))\n",
    "        x = self.fc3(x)  \n",
    "        return x\n",
    "\n",
    "# Función para cargar datos desde un CSV\n",
    "def load_data_from_csv(file_path):\n",
    "    data = pd.read_csv(file_path)\n",
    "    X = data.iloc[:, 5:10].values  \n",
    "    #y = data.iloc[:, 12:16].values  \n",
    "    #y = data.iloc[:, 12].values  #esto sólo carga la masa,\n",
    "    #y = data.iloc[:, 13].values #color\n",
    "    #y = data.iloc[:, 14].values #radio\n",
    "    #y = data.iloc[:, 15].values #sSFR   \n",
    "    y1 = data.iloc[:, 12].values  #color,\n",
    "    y2 = data.iloc[:, 13].values #sSFR  \n",
    "    y3 = data.iloc[:, 14].values #sSFR  \n",
    "    y4 = data.iloc[:, 15].values #sSFR  \n",
    "    return X, y1,y2,y3,y4\n",
    "\n",
    "\n",
    "class customLossYan(nn.Module):\n",
    "    def __init__(self, quantiles):\n",
    "        super(customLossYan, self).__init__()\n",
    "        self.quantiles = quantiles\n",
    "\n",
    "    def forward(self, y_true, y_pred):\n",
    "        losses = []\n",
    "        for i,q in enumerate(self.quantiles):\n",
    "            #print(\"predicción: \",y_pred)\n",
    "            #print(\"verdad: \",y_true)\n",
    "            errors = y_true[:,i] - y_pred[:,i]\n",
    "            losses.append(\n",
    "                torch.max((q - 1) * errors, q * errors)\n",
    "            )\n",
    "        loss = torch.mean(torch.stack(losses).sum(dim=0))\n",
    "        return loss           \n",
    "\n",
    "\n",
    "def quantile_loss(y_true, y_pred, quantiles):\n",
    "    losses = []\n",
    "    for i, q in enumerate(quantiles):\n",
    "        errors = y_true[:, i] - y_pred[:, i]\n",
    "        losses.append(np.maximum((q - 1) * errors, q * errors))\n",
    "    loss = np.mean(np.stack(losses).sum(axis=0))\n",
    "    return loss\n",
    "\n",
    "def coverage_probability(y_true, y_pred, quantiles):\n",
    "    coverage = []\n",
    "    for i, q in enumerate(quantiles):\n",
    "        coverage.append(np.mean((y_true[:, i] <= y_pred[:, i]) & (y_pred[:, i] <= y_true[:, i])))\n",
    "    return np.mean(coverage)"
   ]
  },
  {
   "cell_type": "code",
   "execution_count": 5,
   "id": "1e59c21d-8574-495f-a112-361179d3a11b",
   "metadata": {},
   "outputs": [],
   "source": [
    "#cargar datos\n",
    "file_path = 'datasetcompleto.csv'  \n",
    "X, y1,y2 ,y3,y4= load_data_from_csv(file_path)"
   ]
  },
  {
   "cell_type": "code",
   "execution_count": 6,
   "id": "70941a9c-b5bc-4470-831e-585d6300581c",
   "metadata": {
    "scrolled": true
   },
   "outputs": [
    {
     "name": "stdout",
     "output_type": "stream",
     "text": [
      "cuda\n"
     ]
    }
   ],
   "source": [
    "device = torch.device('cuda' if torch.cuda.is_available() else 'cpu')\n",
    "print(device)"
   ]
  },
  {
   "cell_type": "code",
   "execution_count": 7,
   "id": "c81f884e-ff8a-43cb-afae-b30561606814",
   "metadata": {
    "scrolled": true
   },
   "outputs": [],
   "source": [
    "X = torch.tensor(X, dtype=torch.float32).to(device)\n",
    "y1 = torch.tensor(y1, dtype=torch.float32).unsqueeze(1)\n",
    "y2 = torch.tensor(y2, dtype=torch.float32).unsqueeze(1)\n",
    "y1 = y1.repeat(1, 3)\n",
    "y2 = y2.repeat(1, 3)\n",
    "y3 = torch.tensor(y3, dtype=torch.float32).unsqueeze(1)\n",
    "y4 = torch.tensor(y4, dtype=torch.float32).unsqueeze(1)\n",
    "y3 = y3.repeat(1, 3)\n",
    "y4 = y4.repeat(1, 3)\n",
    "# Concatenar los dos tensores a lo largo de la segunda dimensión\n",
    "#y = torch.cat((y1, y2,y3,y4), dim=1)\n",
    "y = y1"
   ]
  },
  {
   "cell_type": "code",
   "execution_count": null,
   "id": "92256f18-55ea-4f02-a2c6-79a3230157f9",
   "metadata": {},
   "outputs": [],
   "source": [
    "print(y)"
   ]
  },
  {
   "cell_type": "code",
   "execution_count": 8,
   "id": "640916ef-c3fa-412d-987b-8678329b529d",
   "metadata": {
    "scrolled": true
   },
   "outputs": [
    {
     "name": "stderr",
     "output_type": "stream",
     "text": [
      "/tmp/ipykernel_119840/3233858228.py:25: FutureWarning: You are using `torch.load` with `weights_only=False` (the current default value), which uses the default pickle module implicitly. It is possible to construct malicious pickle data which will execute arbitrary code during unpickling (See https://github.com/pytorch/pytorch/blob/main/SECURITY.md#untrusted-models for more details). In a future release, the default value for `weights_only` will be flipped to `True`. This limits the functions that could be executed during unpickling. Arbitrary objects will no longer be allowed to be loaded via this mode unless they are explicitly allowlisted by the user via `torch.serialization.add_safe_globals`. We recommend you start setting `weights_only=True` for any use case where you don't have full control of the loaded file. Please open an issue on GitHub for any issues related to this experimental feature.\n",
      "  model.load_state_dict(torch.load(modelfile))\n"
     ]
    }
   ],
   "source": [
    "X_train_val, X_test, y_train_val, y_test = train_test_split(X, y, test_size=0.15, random_state=69)\n",
    "\n",
    "X_train, X_val, y_train, y_val = train_test_split(X_train_val, y_train_val, test_size=0.15, random_state=69)\n",
    "\n",
    "train_dataset = torch.utils.data.TensorDataset(X_train, y_train)\n",
    "val_dataset = torch.utils.data.TensorDataset(X_val, y_val)\n",
    "test_dataset = torch.utils.data.TensorDataset(X_test, y_test)\n",
    "\n",
    "train_loader = torch.utils.data.DataLoader(train_dataset, batch_size=16, shuffle=True)\n",
    "val_loader = torch.utils.data.DataLoader(val_dataset, batch_size=16, shuffle=False)\n",
    "test_loader = torch.utils.data.DataLoader(test_dataset, batch_size=16, shuffle=False)\n",
    "\n",
    "\n",
    "hidden_dim = 100 #tamaño de las capas ocultas\n",
    "num_epochs = 1000\n",
    "early_stop_patience = 20\n",
    "best_val_loss = float('inf')\n",
    "epochs_no_improve = 0\n",
    "\n",
    "#quantiles = [0.25, 0.5, 0.75,0.25, 0.5, 0.75,0.25, 0.5, 0.75,0.25, 0.5, 0.75] \n",
    "quantiles = [0.25, 0.5, 0.75] \n",
    "\n",
    "modelfile = 'StellarMass.pth'\n",
    "model = HaloToGalaxyModel(X.shape[1], len(quantiles), hidden_dim).to(device)\n",
    "model.load_state_dict(torch.load(modelfile))\n",
    "#quantiles = np.linspace(0, 1, 50)[1:-1]  # Excluir 0 y 1\n",
    "\n",
    "criterion = customLossYan(quantiles)\n",
    "optimizer = optim.Adam(model.parameters(), lr=0.0001, weight_decay=1e-5)"
   ]
  },
  {
   "cell_type": "code",
   "execution_count": null,
   "id": "26b03317-40f0-4d2e-aec4-b14fe723377b",
   "metadata": {},
   "outputs": [],
   "source": [
    "print(y_test)"
   ]
  },
  {
   "cell_type": "code",
   "execution_count": null,
   "id": "dde7701a-1bdc-43d2-9581-880cf81264ef",
   "metadata": {},
   "outputs": [],
   "source": [
    "for epoch in range(num_epochs):\n",
    "    model.train()\n",
    "    train_loss = 0.0\n",
    "    for inputs, targets in train_loader:\n",
    "        inputs, targets = inputs.to(device), targets.to(device)\n",
    "        optimizer.zero_grad()\n",
    "        outputs = model(inputs)\n",
    "        loss = criterion(targets, outputs)\n",
    "        loss.backward()\n",
    "        optimizer.step()\n",
    "        train_loss += loss.item() * inputs.size(0)\n",
    "    \n",
    "    train_loss /= len(train_loader.dataset)\n",
    "    \n",
    "    model.eval()\n",
    "    val_loss = 0.0\n",
    "    correct = 0\n",
    "    total = 0\n",
    "    with torch.no_grad():\n",
    "        for inputs, targets in val_loader:\n",
    "            inputs, targets = inputs.to(device), targets.to(device)\n",
    "            outputs = model(inputs)\n",
    "            loss = criterion(targets, outputs)\n",
    "            val_loss += loss.item() * inputs.size(0)\n",
    "                        \n",
    "    val_loss /= len(val_loader.dataset)    \n",
    "    \n",
    "    print(f'Epoch [{epoch + 1}/{num_epochs}], Loss: {train_loss:.4f}, Val Loss: {val_loss:.4f}')\n",
    "    \n",
    "    \n",
    "    if val_loss < best_val_loss:\n",
    "        best_val_loss = val_loss\n",
    "        epochs_no_improve = 0\n",
    "        torch.save(model.state_dict(), modelfile)\n",
    "    else:\n",
    "        epochs_no_improve += 1\n",
    "        if epochs_no_improve == early_stop_patience:\n",
    "            print('Early stopping!')\n",
    "            break\n"
   ]
  },
  {
   "cell_type": "code",
   "execution_count": 9,
   "id": "f084434b-d31d-44ef-a785-72499bbb70e3",
   "metadata": {},
   "outputs": [
    {
     "name": "stderr",
     "output_type": "stream",
     "text": [
      "/tmp/ipykernel_119840/3487896552.py:1: FutureWarning: You are using `torch.load` with `weights_only=False` (the current default value), which uses the default pickle module implicitly. It is possible to construct malicious pickle data which will execute arbitrary code during unpickling (See https://github.com/pytorch/pytorch/blob/main/SECURITY.md#untrusted-models for more details). In a future release, the default value for `weights_only` will be flipped to `True`. This limits the functions that could be executed during unpickling. Arbitrary objects will no longer be allowed to be loaded via this mode unless they are explicitly allowlisted by the user via `torch.serialization.add_safe_globals`. We recommend you start setting `weights_only=True` for any use case where you don't have full control of the loaded file. Please open an issue on GitHub for any issues related to this experimental feature.\n",
      "  model.load_state_dict(torch.load(modelfile))\n"
     ]
    },
    {
     "ename": "NameError",
     "evalue": "name 'mean_absolute_percentage_error' is not defined",
     "output_type": "error",
     "traceback": [
      "\u001b[0;31m---------------------------------------------------------------------------\u001b[0m",
      "\u001b[0;31mNameError\u001b[0m                                 Traceback (most recent call last)",
      "Cell \u001b[0;32mIn[9], line 25\u001b[0m\n\u001b[1;32m     23\u001b[0m r2 \u001b[38;5;241m=\u001b[39m r2_score(y_test_all, outputs_all)\n\u001b[1;32m     24\u001b[0m median_ae \u001b[38;5;241m=\u001b[39m median_absolute_error(y_test_all, outputs_all)\n\u001b[0;32m---> 25\u001b[0m mape \u001b[38;5;241m=\u001b[39m \u001b[43mmean_absolute_percentage_error\u001b[49m(y_test_all, outputs_all)\n\u001b[1;32m     26\u001b[0m q_loss \u001b[38;5;241m=\u001b[39m quantile_loss(y_test_all, outputs_all, quantiles)\n\u001b[1;32m     27\u001b[0m coverage \u001b[38;5;241m=\u001b[39m coverage_probability(y_test_all, outputs_all, quantiles)\n",
      "\u001b[0;31mNameError\u001b[0m: name 'mean_absolute_percentage_error' is not defined"
     ]
    }
   ],
   "source": [
    "model.load_state_dict(torch.load(modelfile))\n",
    "\n",
    "model.eval()\n",
    "test_loss = 0.0\n",
    "y_test_all = []\n",
    "outputs_all = []\n",
    "\n",
    "with torch.no_grad():\n",
    "    for inputs, targets in test_loader:\n",
    "        inputs, targets = inputs.to(device), targets.to(device)\n",
    "        outputs = model(inputs)\n",
    "        loss = criterion(targets, outputs)\n",
    "        test_loss += loss.item() * inputs.size(0)\n",
    "        y_test_all.append(targets.cpu().numpy())\n",
    "        outputs_all.append(outputs.cpu().numpy())\n",
    "\n",
    "test_loss /= len(test_loader.dataset)\n",
    "y_test_all = np.concatenate(y_test_all)\n",
    "outputs_all = np.concatenate(outputs_all)\n",
    "\n",
    "mae = mean_absolute_error(y_test_all, outputs_all)\n",
    "rmse = np.sqrt(test_loss)\n",
    "r2 = r2_score(y_test_all, outputs_all)\n",
    "median_ae = median_absolute_error(y_test_all, outputs_all)\n",
    "mape = mean_absolute_percentage_error(y_test_all, outputs_all)\n",
    "q_loss = quantile_loss(y_test_all, outputs_all, quantiles)\n",
    "coverage = coverage_probability(y_test_all, outputs_all, quantiles)\n",
    "#ks_statistic, p_value = ks_test_metric(torch.tensor(y_test_all), torch.tensor(outputs_all))\n",
    "\n",
    "print(f'Test Loss (MSE): {test_loss:.4f}')\n",
    "print(f'MAE: {mae:.4f}')\n",
    "print(f'RMSE: {rmse:.4f}')\n",
    "print(f'R²: {r2:.4f}')\n",
    "print(f'Median Absolute Error: {median_ae:.4f}')\n",
    "print(f'MAPE: {mape:.4f}')\n",
    "print(f'Quantile Loss: {q_loss:.4f}')\n",
    "print(f'Coverage Probability: {coverage:.4f}')\n",
    "#print(f'KS Statistic: {ks_statistic:.4f}, P-value: {p_value:.4f}')\n"
   ]
  },
  {
   "cell_type": "code",
   "execution_count": null,
   "id": "27ef1d10-fc0c-4fe3-ac33-52630492e867",
   "metadata": {},
   "outputs": [],
   "source": [
    "print(y[9906])"
   ]
  },
  {
   "cell_type": "code",
   "execution_count": null,
   "id": "ed54d997-c213-4ea6-a357-62fa44d5eb18",
   "metadata": {},
   "outputs": [],
   "source": [
    "model.eval()\n",
    "experimento = model(X[9906])"
   ]
  },
  {
   "cell_type": "code",
   "execution_count": null,
   "id": "f274f8f7-d7de-4080-9269-cd895ebe1140",
   "metadata": {},
   "outputs": [],
   "source": [
    "experimento"
   ]
  },
  {
   "cell_type": "code",
   "execution_count": null,
   "id": "6fd63d0a-e0e1-444d-91f7-fe2e5ae50e07",
   "metadata": {},
   "outputs": [],
   "source": []
  },
  {
   "cell_type": "code",
   "execution_count": null,
   "id": "792a4585-0daa-4918-ac63-8b02bde56eec",
   "metadata": {},
   "outputs": [],
   "source": []
  }
 ],
 "metadata": {
  "kernelspec": {
   "display_name": "Python 3 (ipykernel)",
   "language": "python",
   "name": "python3"
  },
  "language_info": {
   "codemirror_mode": {
    "name": "ipython",
    "version": 3
   },
   "file_extension": ".py",
   "mimetype": "text/x-python",
   "name": "python",
   "nbconvert_exporter": "python",
   "pygments_lexer": "ipython3",
   "version": "3.8.19"
  }
 },
 "nbformat": 4,
 "nbformat_minor": 5
}
