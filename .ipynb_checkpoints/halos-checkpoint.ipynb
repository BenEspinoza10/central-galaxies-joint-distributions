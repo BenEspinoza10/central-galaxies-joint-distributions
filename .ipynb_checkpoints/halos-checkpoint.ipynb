{
 "cells": [
  {
   "cell_type": "code",
   "execution_count": 1,
   "id": "9d157d7d-3daa-4fb0-abd3-d601278befcc",
   "metadata": {},
   "outputs": [],
   "source": [
    "import h5py\n",
    "import numpy as np\n",
    "import pandas as pd"
   ]
  },
  {
   "cell_type": "code",
   "execution_count": 5,
   "id": "421ce0bf-f68d-4920-b10d-69a402657762",
   "metadata": {},
   "outputs": [],
   "source": [
    "def load_data_from_hdf5(file_path):\n",
    "    with h5py.File(file_path, 'r') as archivo:        \n",
    "        datasetID = archivo['Groups/GrNr_halo']\n",
    "        datoID = datasetID[:]\n",
    "        datasetM_h = archivo['Groups/Group_M_Crit200']\n",
    "        datoM_h = np.log10(datasetM_h[:])\n",
    "        datasetC_h = archivo['Groups/c200']\n",
    "        datoC_h = np.log10(datasetC_h[:])\n",
    "        datasetS_h = archivo['Groups/Spin']\n",
    "        datoS_h = datasetS_h[:]\n",
    "        datasetz_h = archivo['Groups/zform']\n",
    "        datoz_h = datasetz_h[:]\n",
    "        datasetDelta3_h = archivo['Groups/Density_3']\n",
    "        datoDelta3_h = datasetDelta3_h[:]\n",
    "    \n",
    "        #Posiciones, otro ds aparte\n",
    "        dataset_poss = archivo['Groups/GroupPos']\n",
    "        dato_poss = dataset_poss[:] * 1e-3               \n",
    "    return datoID, datoDelta3_h, dato_poss[:,0], dato_poss[:,1],dato_poss[:,2], datoM_h, datoS_h , datoC_h, datoz_h\n",
    "    "
   ]
  },
  {
   "cell_type": "code",
   "execution_count": 10,
   "id": "21195e97-dfb6-43e4-ba8b-3fbe3c6dbc28",
   "metadata": {},
   "outputs": [],
   "source": [
    "def save_data_to_csv(file_path, csv_path):\n",
    "    # Cargar los datos\n",
    "    ID, delta3_h, xpos_h, ypos_h, zpos_h, mH, s_H, C_h, z_H = load_data_from_hdf5(file_path)\n",
    "    \n",
    "    # Crear un DataFrame con los datos\n",
    "    data = {\n",
    "        'ID': ID,\n",
    "        'X_h': xpos_h,   \n",
    "        'Y_h': ypos_h,   \n",
    "        'Z_h': zpos_h,  \n",
    "        'M_h': mH,\n",
    "        'C_h': C_h,                    \n",
    "        'S_h': s_H,        \n",
    "        'z_h': z_H,\n",
    "        'delta3_h': delta3_h\n",
    "    }\n",
    "    \n",
    "    df = pd.DataFrame(data)\n",
    "    \n",
    "    # Guardar el DataFrame en un archivo CSV\n",
    "    df.to_csv(csv_path, index=False)"
   ]
  },
  {
   "cell_type": "code",
   "execution_count": 11,
   "id": "45db1aa5-e65d-4d68-b09b-26ab7ce7ddd3",
   "metadata": {},
   "outputs": [],
   "source": [
    "ID, delta3_h, x_h, y_h, z_h, e_mH, s_H, eC_h, z_H = load_data_from_hdf5('Table_TNG300_snapshot99_wSpins_wEnv_ALL.hdf5')"
   ]
  },
  {
   "cell_type": "code",
   "execution_count": 12,
   "id": "2a4806cf-40c6-4c2d-9f11-d66d6cbe8a53",
   "metadata": {},
   "outputs": [
    {
     "data": {
      "text/plain": [
       "array([ 43.718815,  81.856514, 119.228165, ...,  50.662014, 183.48979 ,\n",
       "       140.00209 ], dtype=float32)"
      ]
     },
     "execution_count": 12,
     "metadata": {},
     "output_type": "execute_result"
    }
   ],
   "source": [
    "x_h"
   ]
  },
  {
   "cell_type": "code",
   "execution_count": 13,
   "id": "79772978-f6cd-4c7d-893b-9b7d3bd36620",
   "metadata": {},
   "outputs": [],
   "source": [
    "save_data_to_csv('Table_TNG300_snapshot99_wSpins_wEnv_ALL.hdf5', 'datos.csv')\n"
   ]
  },
  {
   "cell_type": "code",
   "execution_count": 102,
   "id": "95826bfd-52c2-452e-97b1-026182290789",
   "metadata": {},
   "outputs": [
    {
     "data": {
      "text/plain": [
       "array(['SubhaloCM', 'SubhaloGrNr', 'SubhaloHalfmassRad',\n",
       "       'SubhaloHalfmassRadType', 'SubhaloMassInHalfRadType',\n",
       "       'SubhaloMassType', 'SubhaloPos', 'SubhaloSFR',\n",
       "       'SubhaloSFRinHalfRad', 'SubhaloStellarPhotometrics_g',\n",
       "       'SubhaloStellarPhotometrics_i', 'SubhaloStellarPhotometrics_r',\n",
       "       'SubhaloStellarPhotometrics_z', 'SubhaloVel', 'SubhaloVelDisp',\n",
       "       'SubhaloVmax', 'SubhaloVmaxRad', 'Subhalo_JdmInHalfRad',\n",
       "       'Subhalo_JdmInRad', 'Subhalo_JgasInHalfRad', 'Subhalo_JgasInRad',\n",
       "       'Subhalo_JstarsInHalfRad', 'Subhalo_JstarsInRad',\n",
       "       'Subhalo_mdmInHalfRad', 'Subhalo_mdmInRad',\n",
       "       'Subhalo_mgasInHalfRad', 'Subhalo_mgasInRad',\n",
       "       'Subhalo_mstarsInHalfRad', 'Subhalo_mstarsInRad'], dtype='<U28')"
      ]
     },
     "execution_count": 102,
     "metadata": {},
     "output_type": "execute_result"
    }
   ],
   "source": [
    "y"
   ]
  },
  {
   "cell_type": "code",
   "execution_count": null,
   "id": "8681afe4-d18d-4218-b4a0-7693a431a1ec",
   "metadata": {},
   "outputs": [],
   "source": []
  },
  {
   "cell_type": "code",
   "execution_count": null,
   "id": "29757665-e872-45f1-80c9-d96eac39aec8",
   "metadata": {},
   "outputs": [],
   "source": []
  }
 ],
 "metadata": {
  "kernelspec": {
   "display_name": "Python 3 (ipykernel)",
   "language": "python",
   "name": "python3"
  },
  "language_info": {
   "codemirror_mode": {
    "name": "ipython",
    "version": 3
   },
   "file_extension": ".py",
   "mimetype": "text/x-python",
   "name": "python",
   "nbconvert_exporter": "python",
   "pygments_lexer": "ipython3",
   "version": "3.12.3"
  }
 },
 "nbformat": 4,
 "nbformat_minor": 5
}
