{
 "cells": [
  {
   "cell_type": "code",
   "execution_count": 65,
   "metadata": {},
   "outputs": [],
   "source": [
    "import pandas as pd\n",
    "import numpy as np"
   ]
  },
  {
   "cell_type": "markdown",
   "metadata": {},
   "source": [
    "# Lectura y fusión"
   ]
  },
  {
   "cell_type": "code",
   "execution_count": 66,
   "metadata": {},
   "outputs": [],
   "source": [
    "df_galaxia = pd.read_csv('galaxias.csv')\n",
    "df_halos = pd.read_csv('datos.csv')"
   ]
  },
  {
   "cell_type": "code",
   "execution_count": 67,
   "metadata": {},
   "outputs": [
    {
     "data": {
      "text/html": [
       "<div>\n",
       "<style scoped>\n",
       "    .dataframe tbody tr th:only-of-type {\n",
       "        vertical-align: middle;\n",
       "    }\n",
       "\n",
       "    .dataframe tbody tr th {\n",
       "        vertical-align: top;\n",
       "    }\n",
       "\n",
       "    .dataframe thead th {\n",
       "        text-align: right;\n",
       "    }\n",
       "</style>\n",
       "<table border=\"1\" class=\"dataframe\">\n",
       "  <thead>\n",
       "    <tr style=\"text-align: right;\">\n",
       "      <th></th>\n",
       "      <th>SubhaloGrNr</th>\n",
       "      <th>stellar_mass</th>\n",
       "      <th>color_g_i</th>\n",
       "      <th>galaxy_size</th>\n",
       "      <th>sSFR</th>\n",
       "    </tr>\n",
       "  </thead>\n",
       "  <tbody>\n",
       "    <tr>\n",
       "      <th>0</th>\n",
       "      <td>0.0</td>\n",
       "      <td>12.725052</td>\n",
       "      <td>1.100183</td>\n",
       "      <td>2.114161</td>\n",
       "      <td>-13.500000</td>\n",
       "    </tr>\n",
       "    <tr>\n",
       "      <th>1</th>\n",
       "      <td>1.0</td>\n",
       "      <td>12.576932</td>\n",
       "      <td>1.083376</td>\n",
       "      <td>2.180462</td>\n",
       "      <td>-12.547038</td>\n",
       "    </tr>\n",
       "    <tr>\n",
       "      <th>2</th>\n",
       "      <td>2.0</td>\n",
       "      <td>12.514578</td>\n",
       "      <td>0.950649</td>\n",
       "      <td>2.036437</td>\n",
       "      <td>-11.672924</td>\n",
       "    </tr>\n",
       "    <tr>\n",
       "      <th>3</th>\n",
       "      <td>3.0</td>\n",
       "      <td>12.431301</td>\n",
       "      <td>1.089487</td>\n",
       "      <td>1.962991</td>\n",
       "      <td>-12.283516</td>\n",
       "    </tr>\n",
       "    <tr>\n",
       "      <th>4</th>\n",
       "      <td>4.0</td>\n",
       "      <td>12.442983</td>\n",
       "      <td>1.093084</td>\n",
       "      <td>2.042622</td>\n",
       "      <td>-12.041166</td>\n",
       "    </tr>\n",
       "  </tbody>\n",
       "</table>\n",
       "</div>"
      ],
      "text/plain": [
       "   SubhaloGrNr  stellar_mass  color_g_i  galaxy_size       sSFR\n",
       "0          0.0     12.725052   1.100183     2.114161 -13.500000\n",
       "1          1.0     12.576932   1.083376     2.180462 -12.547038\n",
       "2          2.0     12.514578   0.950649     2.036437 -11.672924\n",
       "3          3.0     12.431301   1.089487     1.962991 -12.283516\n",
       "4          4.0     12.442983   1.093084     2.042622 -12.041166"
      ]
     },
     "execution_count": 67,
     "metadata": {},
     "output_type": "execute_result"
    }
   ],
   "source": [
    "df_galaxia.head()"
   ]
  },
  {
   "cell_type": "code",
   "execution_count": 68,
   "metadata": {},
   "outputs": [
    {
     "data": {
      "text/html": [
       "<div>\n",
       "<style scoped>\n",
       "    .dataframe tbody tr th:only-of-type {\n",
       "        vertical-align: middle;\n",
       "    }\n",
       "\n",
       "    .dataframe tbody tr th {\n",
       "        vertical-align: top;\n",
       "    }\n",
       "\n",
       "    .dataframe thead th {\n",
       "        text-align: right;\n",
       "    }\n",
       "</style>\n",
       "<table border=\"1\" class=\"dataframe\">\n",
       "  <thead>\n",
       "    <tr style=\"text-align: right;\">\n",
       "      <th></th>\n",
       "      <th>ID</th>\n",
       "      <th>X_h</th>\n",
       "      <th>Y_h</th>\n",
       "      <th>Z_h</th>\n",
       "      <th>M_h</th>\n",
       "      <th>C_h</th>\n",
       "      <th>S_h</th>\n",
       "      <th>z_h</th>\n",
       "      <th>delta3_h</th>\n",
       "    </tr>\n",
       "  </thead>\n",
       "  <tbody>\n",
       "    <tr>\n",
       "      <th>0</th>\n",
       "      <td>0</td>\n",
       "      <td>43.718815</td>\n",
       "      <td>48.813644</td>\n",
       "      <td>147.594960</td>\n",
       "      <td>15.017177</td>\n",
       "      <td>0.741347</td>\n",
       "      <td>0.054005</td>\n",
       "      <td>0.606061</td>\n",
       "      <td>57.296656</td>\n",
       "    </tr>\n",
       "    <tr>\n",
       "      <th>1</th>\n",
       "      <td>1</td>\n",
       "      <td>81.856514</td>\n",
       "      <td>121.018326</td>\n",
       "      <td>194.532700</td>\n",
       "      <td>14.947234</td>\n",
       "      <td>0.707000</td>\n",
       "      <td>0.003501</td>\n",
       "      <td>0.484848</td>\n",
       "      <td>45.673574</td>\n",
       "    </tr>\n",
       "    <tr>\n",
       "      <th>2</th>\n",
       "      <td>2</td>\n",
       "      <td>119.228165</td>\n",
       "      <td>67.811490</td>\n",
       "      <td>196.039400</td>\n",
       "      <td>14.845078</td>\n",
       "      <td>0.849128</td>\n",
       "      <td>0.011050</td>\n",
       "      <td>0.606061</td>\n",
       "      <td>36.506752</td>\n",
       "    </tr>\n",
       "    <tr>\n",
       "      <th>3</th>\n",
       "      <td>3</td>\n",
       "      <td>86.512830</td>\n",
       "      <td>81.893570</td>\n",
       "      <td>52.624557</td>\n",
       "      <td>14.784928</td>\n",
       "      <td>0.699686</td>\n",
       "      <td>0.067233</td>\n",
       "      <td>0.303030</td>\n",
       "      <td>38.577715</td>\n",
       "    </tr>\n",
       "    <tr>\n",
       "      <th>4</th>\n",
       "      <td>4</td>\n",
       "      <td>134.485400</td>\n",
       "      <td>36.361380</td>\n",
       "      <td>35.270620</td>\n",
       "      <td>14.756064</td>\n",
       "      <td>0.748552</td>\n",
       "      <td>0.029053</td>\n",
       "      <td>0.424242</td>\n",
       "      <td>37.453936</td>\n",
       "    </tr>\n",
       "  </tbody>\n",
       "</table>\n",
       "</div>"
      ],
      "text/plain": [
       "   ID         X_h         Y_h         Z_h        M_h       C_h       S_h  \\\n",
       "0   0   43.718815   48.813644  147.594960  15.017177  0.741347  0.054005   \n",
       "1   1   81.856514  121.018326  194.532700  14.947234  0.707000  0.003501   \n",
       "2   2  119.228165   67.811490  196.039400  14.845078  0.849128  0.011050   \n",
       "3   3   86.512830   81.893570   52.624557  14.784928  0.699686  0.067233   \n",
       "4   4  134.485400   36.361380   35.270620  14.756064  0.748552  0.029053   \n",
       "\n",
       "        z_h   delta3_h  \n",
       "0  0.606061  57.296656  \n",
       "1  0.484848  45.673574  \n",
       "2  0.606061  36.506752  \n",
       "3  0.303030  38.577715  \n",
       "4  0.424242  37.453936  "
      ]
     },
     "execution_count": 68,
     "metadata": {},
     "output_type": "execute_result"
    }
   ],
   "source": [
    "df_halos.head()"
   ]
  },
  {
   "cell_type": "code",
   "execution_count": 69,
   "metadata": {},
   "outputs": [],
   "source": [
    "df_concatenado = pd.merge(df_halos, df_galaxia, left_on='ID', right_on='SubhaloGrNr', how='inner')"
   ]
  },
  {
   "cell_type": "code",
   "execution_count": 70,
   "metadata": {},
   "outputs": [
    {
     "data": {
      "text/plain": [
       "(174785, 14)"
      ]
     },
     "execution_count": 70,
     "metadata": {},
     "output_type": "execute_result"
    }
   ],
   "source": [
    "df_concatenado.shape"
   ]
  },
  {
   "cell_type": "code",
   "execution_count": 71,
   "metadata": {},
   "outputs": [
    {
     "data": {
      "text/html": [
       "<div>\n",
       "<style scoped>\n",
       "    .dataframe tbody tr th:only-of-type {\n",
       "        vertical-align: middle;\n",
       "    }\n",
       "\n",
       "    .dataframe tbody tr th {\n",
       "        vertical-align: top;\n",
       "    }\n",
       "\n",
       "    .dataframe thead th {\n",
       "        text-align: right;\n",
       "    }\n",
       "</style>\n",
       "<table border=\"1\" class=\"dataframe\">\n",
       "  <thead>\n",
       "    <tr style=\"text-align: right;\">\n",
       "      <th></th>\n",
       "      <th>ID</th>\n",
       "      <th>X_h</th>\n",
       "      <th>Y_h</th>\n",
       "      <th>Z_h</th>\n",
       "      <th>M_h</th>\n",
       "      <th>C_h</th>\n",
       "      <th>S_h</th>\n",
       "      <th>z_h</th>\n",
       "      <th>delta3_h</th>\n",
       "      <th>SubhaloGrNr</th>\n",
       "      <th>stellar_mass</th>\n",
       "      <th>color_g_i</th>\n",
       "      <th>galaxy_size</th>\n",
       "      <th>sSFR</th>\n",
       "    </tr>\n",
       "  </thead>\n",
       "  <tbody>\n",
       "    <tr>\n",
       "      <th>0</th>\n",
       "      <td>0</td>\n",
       "      <td>43.718815</td>\n",
       "      <td>48.813644</td>\n",
       "      <td>147.594960</td>\n",
       "      <td>15.017177</td>\n",
       "      <td>0.741347</td>\n",
       "      <td>0.054005</td>\n",
       "      <td>0.606061</td>\n",
       "      <td>57.296656</td>\n",
       "      <td>0.0</td>\n",
       "      <td>12.725052</td>\n",
       "      <td>1.100183</td>\n",
       "      <td>2.114161</td>\n",
       "      <td>-13.500000</td>\n",
       "    </tr>\n",
       "    <tr>\n",
       "      <th>1</th>\n",
       "      <td>1</td>\n",
       "      <td>81.856514</td>\n",
       "      <td>121.018326</td>\n",
       "      <td>194.532700</td>\n",
       "      <td>14.947234</td>\n",
       "      <td>0.707000</td>\n",
       "      <td>0.003501</td>\n",
       "      <td>0.484848</td>\n",
       "      <td>45.673574</td>\n",
       "      <td>1.0</td>\n",
       "      <td>12.576932</td>\n",
       "      <td>1.083376</td>\n",
       "      <td>2.180462</td>\n",
       "      <td>-12.547038</td>\n",
       "    </tr>\n",
       "    <tr>\n",
       "      <th>2</th>\n",
       "      <td>2</td>\n",
       "      <td>119.228165</td>\n",
       "      <td>67.811490</td>\n",
       "      <td>196.039400</td>\n",
       "      <td>14.845078</td>\n",
       "      <td>0.849128</td>\n",
       "      <td>0.011050</td>\n",
       "      <td>0.606061</td>\n",
       "      <td>36.506752</td>\n",
       "      <td>2.0</td>\n",
       "      <td>12.514578</td>\n",
       "      <td>0.950649</td>\n",
       "      <td>2.036437</td>\n",
       "      <td>-11.672924</td>\n",
       "    </tr>\n",
       "    <tr>\n",
       "      <th>3</th>\n",
       "      <td>3</td>\n",
       "      <td>86.512830</td>\n",
       "      <td>81.893570</td>\n",
       "      <td>52.624557</td>\n",
       "      <td>14.784928</td>\n",
       "      <td>0.699686</td>\n",
       "      <td>0.067233</td>\n",
       "      <td>0.303030</td>\n",
       "      <td>38.577715</td>\n",
       "      <td>3.0</td>\n",
       "      <td>12.431301</td>\n",
       "      <td>1.089487</td>\n",
       "      <td>1.962991</td>\n",
       "      <td>-12.283516</td>\n",
       "    </tr>\n",
       "    <tr>\n",
       "      <th>4</th>\n",
       "      <td>4</td>\n",
       "      <td>134.485400</td>\n",
       "      <td>36.361380</td>\n",
       "      <td>35.270620</td>\n",
       "      <td>14.756064</td>\n",
       "      <td>0.748552</td>\n",
       "      <td>0.029053</td>\n",
       "      <td>0.424242</td>\n",
       "      <td>37.453936</td>\n",
       "      <td>4.0</td>\n",
       "      <td>12.442983</td>\n",
       "      <td>1.093084</td>\n",
       "      <td>2.042622</td>\n",
       "      <td>-12.041166</td>\n",
       "    </tr>\n",
       "  </tbody>\n",
       "</table>\n",
       "</div>"
      ],
      "text/plain": [
       "   ID         X_h         Y_h         Z_h        M_h       C_h       S_h  \\\n",
       "0   0   43.718815   48.813644  147.594960  15.017177  0.741347  0.054005   \n",
       "1   1   81.856514  121.018326  194.532700  14.947234  0.707000  0.003501   \n",
       "2   2  119.228165   67.811490  196.039400  14.845078  0.849128  0.011050   \n",
       "3   3   86.512830   81.893570   52.624557  14.784928  0.699686  0.067233   \n",
       "4   4  134.485400   36.361380   35.270620  14.756064  0.748552  0.029053   \n",
       "\n",
       "        z_h   delta3_h  SubhaloGrNr  stellar_mass  color_g_i  galaxy_size  \\\n",
       "0  0.606061  57.296656          0.0     12.725052   1.100183     2.114161   \n",
       "1  0.484848  45.673574          1.0     12.576932   1.083376     2.180462   \n",
       "2  0.606061  36.506752          2.0     12.514578   0.950649     2.036437   \n",
       "3  0.303030  38.577715          3.0     12.431301   1.089487     1.962991   \n",
       "4  0.424242  37.453936          4.0     12.442983   1.093084     2.042622   \n",
       "\n",
       "        sSFR  \n",
       "0 -13.500000  \n",
       "1 -12.547038  \n",
       "2 -11.672924  \n",
       "3 -12.283516  \n",
       "4 -12.041166  "
      ]
     },
     "execution_count": 71,
     "metadata": {},
     "output_type": "execute_result"
    }
   ],
   "source": [
    "df_concatenado.head()"
   ]
  },
  {
   "cell_type": "code",
   "execution_count": 72,
   "metadata": {},
   "outputs": [],
   "source": [
    "mean_concat = [np.mean(df_concatenado['M_h']), np.mean(df_concatenado['C_h']), np.mean(df_concatenado['S_h']), np.mean(df_concatenado['z_h']),  np.mean(df_concatenado['delta3_h'])]\n",
    "std_concat = [np.std(df_concatenado['M_h']), np.std(df_concatenado['C_h']), np.std(df_concatenado['S_h']), np.std(df_concatenado['z_h']),  np.std(df_concatenado['delta3_h'])]"
   ]
  },
  {
   "cell_type": "code",
   "execution_count": 73,
   "metadata": {},
   "outputs": [
    {
     "name": "stdout",
     "output_type": "stream",
     "text": [
      "[11.564309247466891, 1.0160512827804538, 0.04936910685229069, 1.3253987366298325, 2.9682246082425423]\n",
      "[0.4647562648277112, 0.15517336226872755, 0.02891839418545782, 0.6176086346481726, 2.8908099087383863]\n"
     ]
    }
   ],
   "source": [
    "print(mean_concat)\n",
    "print(std_concat)"
   ]
  },
  {
   "cell_type": "code",
   "execution_count": 58,
   "metadata": {},
   "outputs": [],
   "source": [
    "#RAW\n",
    "mean_data = np.array([11.56402166,  1.01631081,  0.04940789,  1.32597217,  2.96404967])\n",
    "std_data = np.array([0.46291709, 0.15845161, 0.02893565, 0.6149362 , 2.88140351])"
   ]
  }
 ],
 "metadata": {
  "kernelspec": {
   "display_name": "Python 3",
   "language": "python",
   "name": "python3"
  },
  "language_info": {
   "codemirror_mode": {
    "name": "ipython",
    "version": 3
   },
   "file_extension": ".py",
   "mimetype": "text/x-python",
   "name": "python",
   "nbconvert_exporter": "python",
   "pygments_lexer": "ipython3",
   "version": "3.10.12"
  }
 },
 "nbformat": 4,
 "nbformat_minor": 2
}
