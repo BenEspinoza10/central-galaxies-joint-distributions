{
 "cells": [
  {
   "cell_type": "code",
   "execution_count": 104,
   "metadata": {},
   "outputs": [
    {
     "name": "stderr",
     "output_type": "stream",
     "text": [
      "/home/iogurth/.local/lib/python3.10/site-packages/pandas/core/computation/expressions.py:21: UserWarning: Pandas requires version '2.8.4' or newer of 'numexpr' (version '2.8.1' currently installed).\n",
      "  from pandas.core.computation.check import NUMEXPR_INSTALLED\n",
      "/home/iogurth/.local/lib/python3.10/site-packages/pandas/core/arrays/masked.py:60: UserWarning: Pandas requires version '1.3.6' or newer of 'bottleneck' (version '1.3.2' currently installed).\n",
      "  from pandas.core import (\n"
     ]
    }
   ],
   "source": [
    "import h5py\n",
    "import numpy as np\n",
    "import pandas as pd"
   ]
  },
  {
   "cell_type": "markdown",
   "metadata": {},
   "source": [
    "# Cálculo"
   ]
  },
  {
   "cell_type": "code",
   "execution_count": 93,
   "metadata": {},
   "outputs": [],
   "source": [
    "with h5py.File('Table_TNG300_snapshot99_wSpins_wEnv_ALL.hdf5', 'r') as f:\n",
    "    # Leer los subgrupos necesarios\n",
    "    haloSubGr = np.array(f['SubGroups']['SubhaloGrNr']) \n",
    "    SubhaloMassType = f['SubGroups']['SubhaloMassType'][:]\n",
    "    SubhaloStellarPhotometrics_g = f['SubGroups']['SubhaloStellarPhotometrics_g'][:]\n",
    "    SubhaloStellarPhotometrics_i = f['SubGroups']['SubhaloStellarPhotometrics_i'][:]\n",
    "    SubhaloSFR = f['SubGroups']['SubhaloSFR'][:]\n",
    "    SubhaloHalfmassRad = f['SubGroups']['SubhaloHalfmassRad'][:]"
   ]
  },
  {
   "cell_type": "code",
   "execution_count": 94,
   "metadata": {},
   "outputs": [
    {
     "data": {
      "text/plain": [
       "(3033931, 6)"
      ]
     },
     "execution_count": 94,
     "metadata": {},
     "output_type": "execute_result"
    }
   ],
   "source": [
    "SubhaloMassType.shape"
   ]
  },
  {
   "cell_type": "code",
   "execution_count": 95,
   "metadata": {},
   "outputs": [
    {
     "data": {
      "text/plain": [
       "array([[1.9187548e+14, 1.0860912e+15, 0.0000000e+00, 0.0000000e+00,\n",
       "        5.3094845e+12, 6.9895447e+10]], dtype=float32)"
      ]
     },
     "execution_count": 95,
     "metadata": {},
     "output_type": "execute_result"
    }
   ],
   "source": [
    "SubhaloMassType[:1]"
   ]
  },
  {
   "cell_type": "code",
   "execution_count": 96,
   "metadata": {},
   "outputs": [],
   "source": [
    "stellar_mass = SubhaloMassType[:, 4]"
   ]
  },
  {
   "cell_type": "code",
   "execution_count": 97,
   "metadata": {},
   "outputs": [
    {
     "data": {
      "text/plain": [
       "(3033931,)"
      ]
     },
     "execution_count": 97,
     "metadata": {},
     "output_type": "execute_result"
    }
   ],
   "source": [
    "stellar_mass.shape"
   ]
  },
  {
   "cell_type": "code",
   "execution_count": 98,
   "metadata": {},
   "outputs": [
    {
     "name": "stderr",
     "output_type": "stream",
     "text": [
      "/tmp/ipykernel_26098/3182447381.py:3: RuntimeWarning: divide by zero encountered in divide\n",
      "  sSFR = SubhaloSFR / SubhaloMassType[:, 4]\n",
      "/tmp/ipykernel_26098/3182447381.py:3: RuntimeWarning: invalid value encountered in divide\n",
      "  sSFR = SubhaloSFR / SubhaloMassType[:, 4]\n"
     ]
    }
   ],
   "source": [
    "color_g_i = SubhaloStellarPhotometrics_g - SubhaloStellarPhotometrics_i\n",
    "\n",
    "sSFR = SubhaloSFR / SubhaloMassType[:, 4]\n",
    "sSFR[sSFR == 0] = 10**-13.5\n",
    "\n",
    "galaxy_size = SubhaloHalfmassRad"
   ]
  },
  {
   "cell_type": "code",
   "execution_count": 99,
   "metadata": {},
   "outputs": [],
   "source": [
    "X = np.column_stack((haloSubGr, stellar_mass, color_g_i, galaxy_size, sSFR))"
   ]
  },
  {
   "cell_type": "code",
   "execution_count": 100,
   "metadata": {},
   "outputs": [
    {
     "data": {
      "text/plain": [
       "array([[0.00000000e+00, 5.30948450e+12, 1.10018349e+00, 9.40981323e+02,\n",
       "        3.16227757e-14],\n",
       "       [0.00000000e+00, 2.53662829e+12, 1.09860420e+00, 4.76462219e+02,\n",
       "        3.16227757e-14]])"
      ]
     },
     "execution_count": 100,
     "metadata": {},
     "output_type": "execute_result"
    }
   ],
   "source": [
    "X[:2]"
   ]
  },
  {
   "cell_type": "code",
   "execution_count": 102,
   "metadata": {},
   "outputs": [],
   "source": [
    "stellar_mass_threshold = 10**8.75\n",
    "\n",
    "stellar_masses = X[:, 1]\n",
    "\n",
    "mask = stellar_masses >= stellar_mass_threshold\n",
    "\n",
    "X = X[mask]"
   ]
  },
  {
   "cell_type": "code",
   "execution_count": 118,
   "metadata": {},
   "outputs": [
    {
     "data": {
      "text/plain": [
       "array([2.82000000e+02, 1.69778534e+09, 1.20463371e+00, 1.14561117e+00,\n",
       "       3.16227757e-14])"
      ]
     },
     "execution_count": 118,
     "metadata": {},
     "output_type": "execute_result"
    }
   ],
   "source": [
    "X[29920]"
   ]
  },
  {
   "cell_type": "code",
   "execution_count": 121,
   "metadata": {},
   "outputs": [
    {
     "data": {
      "text/plain": [
       "9.229882780248719"
      ]
     },
     "execution_count": 121,
     "metadata": {},
     "output_type": "execute_result"
    }
   ],
   "source": [
    "np.log10(X[29920][1])"
   ]
  },
  {
   "cell_type": "code",
   "execution_count": 132,
   "metadata": {},
   "outputs": [],
   "source": [
    "df = pd.DataFrame(X, columns=['SubhaloGrNr', 'stellar_mass', 'color_g_i', 'galaxy_size', 'sSFR'])"
   ]
  },
  {
   "cell_type": "code",
   "execution_count": 133,
   "metadata": {},
   "outputs": [],
   "source": [
    "grouped = df.groupby('SubhaloGrNr').agg({\n",
    "    'stellar_mass': 'sum', \n",
    "    'color_g_i': 'mean',    \n",
    "    'galaxy_size': 'mean', \n",
    "    'sSFR': 'mean'         \n",
    "}).reset_index()\n"
   ]
  },
  {
   "cell_type": "code",
   "execution_count": 134,
   "metadata": {},
   "outputs": [
    {
     "data": {
      "text/html": [
       "<div>\n",
       "<style scoped>\n",
       "    .dataframe tbody tr th:only-of-type {\n",
       "        vertical-align: middle;\n",
       "    }\n",
       "\n",
       "    .dataframe tbody tr th {\n",
       "        vertical-align: top;\n",
       "    }\n",
       "\n",
       "    .dataframe thead th {\n",
       "        text-align: right;\n",
       "    }\n",
       "</style>\n",
       "<table border=\"1\" class=\"dataframe\">\n",
       "  <thead>\n",
       "    <tr style=\"text-align: right;\">\n",
       "      <th></th>\n",
       "      <th>SubhaloGrNr</th>\n",
       "      <th>stellar_mass</th>\n",
       "      <th>color_g_i</th>\n",
       "      <th>galaxy_size</th>\n",
       "      <th>sSFR</th>\n",
       "    </tr>\n",
       "  </thead>\n",
       "  <tbody>\n",
       "    <tr>\n",
       "      <th>9000</th>\n",
       "      <td>3.954243</td>\n",
       "      <td>10.915383</td>\n",
       "      <td>-0.104619</td>\n",
       "      <td>1.667240</td>\n",
       "      <td>-10.320659</td>\n",
       "    </tr>\n",
       "    <tr>\n",
       "      <th>9001</th>\n",
       "      <td>3.954291</td>\n",
       "      <td>10.802505</td>\n",
       "      <td>-0.027643</td>\n",
       "      <td>1.760240</td>\n",
       "      <td>-10.209311</td>\n",
       "    </tr>\n",
       "    <tr>\n",
       "      <th>9002</th>\n",
       "      <td>3.954339</td>\n",
       "      <td>10.743961</td>\n",
       "      <td>-0.102566</td>\n",
       "      <td>1.773082</td>\n",
       "      <td>-9.433140</td>\n",
       "    </tr>\n",
       "    <tr>\n",
       "      <th>9003</th>\n",
       "      <td>3.954387</td>\n",
       "      <td>10.697160</td>\n",
       "      <td>-0.172427</td>\n",
       "      <td>1.672652</td>\n",
       "      <td>-9.793720</td>\n",
       "    </tr>\n",
       "    <tr>\n",
       "      <th>9004</th>\n",
       "      <td>3.954435</td>\n",
       "      <td>10.717736</td>\n",
       "      <td>-0.230027</td>\n",
       "      <td>1.559746</td>\n",
       "      <td>-9.595408</td>\n",
       "    </tr>\n",
       "    <tr>\n",
       "      <th>9005</th>\n",
       "      <td>3.954484</td>\n",
       "      <td>11.012720</td>\n",
       "      <td>-0.000071</td>\n",
       "      <td>1.488488</td>\n",
       "      <td>-10.391940</td>\n",
       "    </tr>\n",
       "    <tr>\n",
       "      <th>9006</th>\n",
       "      <td>3.954532</td>\n",
       "      <td>10.872320</td>\n",
       "      <td>-0.153746</td>\n",
       "      <td>1.913714</td>\n",
       "      <td>-9.617562</td>\n",
       "    </tr>\n",
       "    <tr>\n",
       "      <th>9007</th>\n",
       "      <td>3.954580</td>\n",
       "      <td>10.719114</td>\n",
       "      <td>-0.176140</td>\n",
       "      <td>1.691464</td>\n",
       "      <td>-9.859157</td>\n",
       "    </tr>\n",
       "    <tr>\n",
       "      <th>9008</th>\n",
       "      <td>3.954628</td>\n",
       "      <td>10.802070</td>\n",
       "      <td>-0.412733</td>\n",
       "      <td>1.415086</td>\n",
       "      <td>-9.356572</td>\n",
       "    </tr>\n",
       "    <tr>\n",
       "      <th>9009</th>\n",
       "      <td>3.954677</td>\n",
       "      <td>10.708164</td>\n",
       "      <td>-0.103679</td>\n",
       "      <td>1.600326</td>\n",
       "      <td>-10.204494</td>\n",
       "    </tr>\n",
       "  </tbody>\n",
       "</table>\n",
       "</div>"
      ],
      "text/plain": [
       "      SubhaloGrNr  stellar_mass  color_g_i  galaxy_size       sSFR\n",
       "9000     3.954243     10.915383  -0.104619     1.667240 -10.320659\n",
       "9001     3.954291     10.802505  -0.027643     1.760240 -10.209311\n",
       "9002     3.954339     10.743961  -0.102566     1.773082  -9.433140\n",
       "9003     3.954387     10.697160  -0.172427     1.672652  -9.793720\n",
       "9004     3.954435     10.717736  -0.230027     1.559746  -9.595408\n",
       "9005     3.954484     11.012720  -0.000071     1.488488 -10.391940\n",
       "9006     3.954532     10.872320  -0.153746     1.913714  -9.617562\n",
       "9007     3.954580     10.719114  -0.176140     1.691464  -9.859157\n",
       "9008     3.954628     10.802070  -0.412733     1.415086  -9.356572\n",
       "9009     3.954677     10.708164  -0.103679     1.600326 -10.204494"
      ]
     },
     "execution_count": 134,
     "metadata": {},
     "output_type": "execute_result"
    }
   ],
   "source": [
    "np.log10(grouped[9000:9010])"
   ]
  },
  {
   "cell_type": "code",
   "execution_count": 135,
   "metadata": {},
   "outputs": [
    {
     "name": "stdout",
     "output_type": "stream",
     "text": [
      "SubhaloGrNr     9.906000e+03\n",
      "stellar_mass    7.244419e+10\n",
      "color_g_i       9.964689e-01\n",
      "galaxy_size     4.762826e+01\n",
      "sSFR            1.204385e-11\n",
      "Name: 9906, dtype: float64\n"
     ]
    }
   ],
   "source": [
    "print(grouped.loc[9906])\n"
   ]
  },
  {
   "cell_type": "code",
   "execution_count": 124,
   "metadata": {},
   "outputs": [
    {
     "name": "stderr",
     "output_type": "stream",
     "text": [
      "/tmp/ipykernel_26098/3766716836.py:1: FutureWarning: Series.__getitem__ treating keys as positions is deprecated. In a future version, integer keys will always be treated as labels (consistent with DataFrame behavior). To access a value by position, use `ser.iloc[pos]`\n",
      "  np.log10(grouped.loc[9906][4])\n"
     ]
    },
    {
     "data": {
      "text/plain": [
       "-10.919234827114424"
      ]
     },
     "execution_count": 124,
     "metadata": {},
     "output_type": "execute_result"
    }
   ],
   "source": [
    "np.log10(grouped.loc[9906][4])"
   ]
  },
  {
   "cell_type": "code",
   "execution_count": 136,
   "metadata": {},
   "outputs": [
    {
     "name": "stderr",
     "output_type": "stream",
     "text": [
      "/tmp/ipykernel_26098/1810893022.py:1: FutureWarning: Series.__getitem__ treating keys as positions is deprecated. In a future version, integer keys will always be treated as labels (consistent with DataFrame behavior). To access a value by position, use `ser.iloc[pos]`\n",
      "  np.power(10, grouped.loc[9906][4])\n"
     ]
    },
    {
     "data": {
      "text/plain": [
       "1.000000000027732"
      ]
     },
     "execution_count": 136,
     "metadata": {},
     "output_type": "execute_result"
    }
   ],
   "source": [
    "np.power(10, grouped.loc[9906][4])"
   ]
  }
 ],
 "metadata": {
  "kernelspec": {
   "display_name": "Python 3",
   "language": "python",
   "name": "python3"
  },
  "language_info": {
   "codemirror_mode": {
    "name": "ipython",
    "version": 3
   },
   "file_extension": ".py",
   "mimetype": "text/x-python",
   "name": "python",
   "nbconvert_exporter": "python",
   "pygments_lexer": "ipython3",
   "version": "3.10.12"
  }
 },
 "nbformat": 4,
 "nbformat_minor": 2
}
