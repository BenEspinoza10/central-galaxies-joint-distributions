{
 "cells": [
  {
   "cell_type": "code",
   "execution_count": 1,
   "id": "0bcabdd8-4d78-429d-b079-2ad7a65764e5",
   "metadata": {},
   "outputs": [],
   "source": [
    "import h5py\n",
    "import numpy as np\n",
    "import pandas as pd"
   ]
  },
  {
   "cell_type": "code",
   "execution_count": 4,
   "id": "51f93e72-ff2c-4fa8-81f1-326adf89970b",
   "metadata": {},
   "outputs": [],
   "source": [
    "def load_data_from_hdf5(file_path):\n",
    "    with h5py.File(file_path, 'r') as file:        \n",
    "        x = np.array(file['SubGroups']['SubhaloGrNr']) \n",
    "        masa = np.array(file['SubGroups']['SubhaloMassType']) \n",
    "        sfr = np.array(file['SubGroups']['SubhaloSFR']) \n",
    "        radio = np.array(file['SubGroups']['SubhaloHalfmassRad'])\n",
    "        color_g = np.array(file['SubGroups']['SubhaloStellarPhotometrics_g'])\n",
    "        color_i = np.array(file['SubGroups']['SubhaloStellarPhotometrics_i'])\n",
    "    return x, masa, sfr, radio, color_g, color_i"
   ]
  },
  {
   "cell_type": "code",
   "execution_count": 3,
   "id": "6a3a83dd-64d4-4121-b385-3686475b55ab",
   "metadata": {},
   "outputs": [],
   "source": [
    "def load_data_from_csv(file_path):\n",
    "    data = pd.read_csv(file_path)\n",
    "    X = data.iloc[:, :].values      \n",
    "    return X"
   ]
  },
  {
   "cell_type": "code",
   "execution_count": 6,
   "id": "cf579493-cc68-497b-b2b2-8660c2c10581",
   "metadata": {},
   "outputs": [],
   "source": [
    "datos = load_data_from_csv('datos.csv')"
   ]
  },
  {
   "cell_type": "code",
   "execution_count": 11,
   "id": "6bb4ce6e-b2ed-4b94-a1b0-95c210ca47d1",
   "metadata": {},
   "outputs": [],
   "source": [
    "total, masa, sfr, radio, color_g, color_i= load_data_from_hdf5('Table_TNG300_snapshot99_wSpins_wEnv_ALL.hdf5')"
   ]
  },
  {
   "cell_type": "code",
   "execution_count": 12,
   "id": "12c83f8b-68f7-4bbe-b463-c88296455eef",
   "metadata": {},
   "outputs": [
    {
     "data": {
      "text/plain": [
       "array([-25.62843 , -24.891636, -23.062399, ..., -13.99965 , -13.331769,\n",
       "       -13.242294], dtype=float32)"
      ]
     },
     "execution_count": 12,
     "metadata": {},
     "output_type": "execute_result"
    }
   ],
   "source": [
    "color_g"
   ]
  },
  {
   "cell_type": "code",
   "execution_count": 14,
   "id": "0f044874-c1b8-4be9-8a79-764f127eb82c",
   "metadata": {},
   "outputs": [
    {
     "ename": "NameError",
     "evalue": "name 'sSFR' is not defined",
     "output_type": "error",
     "traceback": [
      "\u001b[1;31m---------------------------------------------------------------------------\u001b[0m",
      "\u001b[1;31mNameError\u001b[0m                                 Traceback (most recent call last)",
      "Cell \u001b[1;32mIn[14], line 13\u001b[0m\n\u001b[0;32m     11\u001b[0m \u001b[38;5;28;01mif\u001b[39;00m (suma_masa \u001b[38;5;241m!=\u001b[39m \u001b[38;5;241m0\u001b[39m):\n\u001b[0;32m     12\u001b[0m     sSFR \u001b[38;5;241m=\u001b[39m suma_sfr\u001b[38;5;241m/\u001b[39msuma_masa\n\u001b[1;32m---> 13\u001b[0m \u001b[38;5;28;01mif\u001b[39;00m (\u001b[43msSFR\u001b[49m \u001b[38;5;241m==\u001b[39m \u001b[38;5;241m0\u001b[39m):\n\u001b[0;32m     14\u001b[0m     sSFR \u001b[38;5;241m=\u001b[39m np\u001b[38;5;241m.\u001b[39mrandom\u001b[38;5;241m.\u001b[39mnormal(\u001b[38;5;241m-\u001b[39m\u001b[38;5;241m13.5\u001b[39m, \u001b[38;5;241m0.5\u001b[39m)\n\u001b[0;32m     15\u001b[0m \u001b[38;5;28;01mif\u001b[39;00m np\u001b[38;5;241m.\u001b[39mlog10(suma_masa) \u001b[38;5;241m>\u001b[39m\u001b[38;5;241m=\u001b[39m \u001b[38;5;241m8.75\u001b[39m:\n",
      "\u001b[1;31mNameError\u001b[0m: name 'sSFR' is not defined"
     ]
    }
   ],
   "source": [
    "galaxia = []\n",
    "for i in datos[:,0]:\n",
    "    sSFR=0\n",
    "    for j in range(len(total)-1):\n",
    "        suma_masa = 0\n",
    "        suma_sfr = 0\n",
    "        suma_color_g_i = 0\n",
    "        if total[j] == i:\n",
    "            suma_masa = suma_masa + np.sum(masa[j])\n",
    "            suma_sfr = suma_sfr + sfr[j]\n",
    "            suma_color_g_i = suma_color_g_i + color_g[j] + color_i[j]\n",
    "    if (suma_masa != 0):\n",
    "        sSFR = suma_sfr/suma_masa\n",
    "    if (sSFR == 0):\n",
    "        sSFR = np.random.normal(-13.5, 0.5)\n",
    "    if np.log10(suma_masa) >= 8.75:\n",
    "        galaxia.append([i,suma_masa,sSFR])\n",
    "        "
   ]
  },
  {
   "cell_type": "code",
   "execution_count": null,
   "id": "8690918c-dfc4-48e5-beaf-b34a1b8fd497",
   "metadata": {},
   "outputs": [],
   "source": []
  }
 ],
 "metadata": {
  "kernelspec": {
   "display_name": "Python 3 (ipykernel)",
   "language": "python",
   "name": "python3"
  },
  "language_info": {
   "codemirror_mode": {
    "name": "ipython",
    "version": 3
   },
   "file_extension": ".py",
   "mimetype": "text/x-python",
   "name": "python",
   "nbconvert_exporter": "python",
   "pygments_lexer": "ipython3",
   "version": "3.12.3"
  }
 },
 "nbformat": 4,
 "nbformat_minor": 5
}
