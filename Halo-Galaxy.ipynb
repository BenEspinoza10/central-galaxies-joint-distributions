{
 "cells": [
  {
   "cell_type": "code",
   "execution_count": 90,
   "metadata": {},
   "outputs": [],
   "source": [
    "import h5py\n",
    "import numpy as np"
   ]
  },
  {
   "cell_type": "markdown",
   "metadata": {},
   "source": [
    "# Lectura"
   ]
  },
  {
   "cell_type": "code",
   "execution_count": 91,
   "metadata": {},
   "outputs": [],
   "source": [
    "# Función para listar todos los grupos y datasets\n",
    "def listar_grupos_datasets(grupo, nivel=0):\n",
    "    for nombre, obj in grupo.items():\n",
    "        espaciado = \"  \" * nivel\n",
    "        if isinstance(obj, h5py.Group):\n",
    "            print(f\"{espaciado}Grupo: {nombre}\")\n",
    "            listar_grupos_datasets(obj, nivel + 1)\n",
    "        elif isinstance(obj, h5py.Dataset):\n",
    "            print(f\"{espaciado}Dataset: {nombre}\")"
   ]
  },
  {
   "cell_type": "code",
   "execution_count": 92,
   "metadata": {},
   "outputs": [
    {
     "name": "stdout",
     "output_type": "stream",
     "text": [
      "Grupos en el archivo: ['Groups', 'SubGroups']\n",
      "Grupo: Groups\n",
      "  Dataset: Density_3\n",
      "  Dataset: Density_5\n",
      "  Dataset: Density_8\n",
      "  Dataset: GrNr_halo\n",
      "  Dataset: GroupPos\n",
      "  Dataset: Group_M_Crit200\n",
      "  Dataset: Spin\n",
      "  Dataset: c200\n",
      "  Dataset: zform\n",
      "Grupo: SubGroups\n",
      "  Dataset: SubhaloCM\n",
      "  Dataset: SubhaloGrNr\n",
      "  Dataset: SubhaloHalfmassRad\n",
      "  Dataset: SubhaloHalfmassRadType\n",
      "  Dataset: SubhaloMassInHalfRadType\n",
      "  Dataset: SubhaloMassType\n",
      "  Dataset: SubhaloPos\n",
      "  Dataset: SubhaloSFR\n",
      "  Dataset: SubhaloSFRinHalfRad\n",
      "  Dataset: SubhaloStellarPhotometrics_g\n",
      "  Dataset: SubhaloStellarPhotometrics_i\n",
      "  Dataset: SubhaloStellarPhotometrics_r\n",
      "  Dataset: SubhaloStellarPhotometrics_z\n",
      "  Dataset: SubhaloVel\n",
      "  Dataset: SubhaloVelDisp\n",
      "  Dataset: SubhaloVmax\n",
      "  Dataset: SubhaloVmaxRad\n",
      "  Dataset: Subhalo_JdmInHalfRad\n",
      "  Dataset: Subhalo_JdmInRad\n",
      "  Dataset: Subhalo_JgasInHalfRad\n",
      "  Dataset: Subhalo_JgasInRad\n",
      "  Dataset: Subhalo_JstarsInHalfRad\n",
      "  Dataset: Subhalo_JstarsInRad\n",
      "  Dataset: Subhalo_mdmInHalfRad\n",
      "  Dataset: Subhalo_mdmInRad\n",
      "  Dataset: Subhalo_mgasInHalfRad\n",
      "  Dataset: Subhalo_mgasInRad\n",
      "  Dataset: Subhalo_mstarsInHalfRad\n",
      "  Dataset: Subhalo_mstarsInRad\n"
     ]
    }
   ],
   "source": [
    "# Abre el archivo en modo lectura\n",
    "with h5py.File('Table_TNG300_snapshot99_wSpins_wEnv_ALL.hdf5', 'r') as archivo:\n",
    "    # Lista los nombres de todos los grupos en el archivo\n",
    "    print(\"Grupos en el archivo:\", list(archivo.keys()))\n",
    "    \n",
    "    # Recorre los grupos y datasets para imprimir sus nombres\n",
    "    listar_grupos_datasets(archivo)"
   ]
  },
  {
   "cell_type": "code",
   "execution_count": 93,
   "metadata": {},
   "outputs": [],
   "source": [
    "with h5py.File('Table_TNG300_snapshot99_wSpins_wEnv_ALL.hdf5', 'r') as archivo:\n",
    "\n",
    "    datasetID = archivo['Groups/GrNr_halo']\n",
    "    datoID = datasetID[:]\n",
    "    datasetM_h = archivo['Groups/Group_M_Crit200']\n",
    "    datoM_h = np.log10(datasetM_h[:])\n",
    "    datasetC_h = archivo['Groups/c200']\n",
    "    datoC_h = np.log10(datasetC_h[:])\n",
    "    datasetS_h = archivo['Groups/Spin']\n",
    "    datoS_h = datasetS_h[:]\n",
    "    datasetz_h = archivo['Groups/zform']\n",
    "    datoz_h = datasetz_h[:]\n",
    "    datasetDelta3_h = archivo['Groups/Density_3']\n",
    "    datoDelta3_h = datasetDelta3_h[:]\n",
    "\n",
    "    #Posiciones, otro ds aparte\n",
    "    dataset_poss = archivo['Groups/GroupPos']\n",
    "    dato_poss = dataset_poss[:] * 1e-3\n"
   ]
  },
  {
   "cell_type": "markdown",
   "metadata": {},
   "source": [
    "**Groups/Density_3**: Delta3_h, tal cual.  \n",
    "**Groups/Density_5**: No se usa.  \n",
    "**Groups/Density_8**: No se usa.  \n",
    "**Groups/GrNr_halo**: ID del subhalo.  \n",
    "**Groups/GroupPos**:  \n",
    "[0]: X_h * 10^3  \n",
    "[1]: Y_h * 10^3  \n",
    "[2]: Z_h * 10^3  \n",
    "**Groups/Group_M_Crit200**: 1eM_h, aplicar log_10(dato) para sacar M_h.  \n",
    "**Groups/Spin**: S_h, tal cual.  \n",
    "**Groups/c200**: 1eC_h, aplicar log_10(dato) para sacar C_h.  \n",
    "**Groups/zform**: z_h, tal cual.  \n"
   ]
  },
  {
   "cell_type": "code",
   "execution_count": 94,
   "metadata": {},
   "outputs": [],
   "source": [
    "input_nparray = np.column_stack((datoID, datoM_h, datoC_h, datoS_h, datoz_h, datoDelta3_h))"
   ]
  },
  {
   "cell_type": "code",
   "execution_count": 95,
   "metadata": {},
   "outputs": [
    {
     "data": {
      "text/plain": [
       "array([9.90600000e+03, 1.24816332e+01, 9.94349691e-01, 6.20856622e-02,\n",
       "       1.27272727e+00, 1.43201505e+01])"
      ]
     },
     "execution_count": 95,
     "metadata": {},
     "output_type": "execute_result"
    }
   ],
   "source": [
    "input_nparray[9906]"
   ]
  }
 ],
 "metadata": {
  "kernelspec": {
   "display_name": "Python 3 (ipykernel)",
   "language": "python",
   "name": "python3"
  },
  "language_info": {
   "codemirror_mode": {
    "name": "ipython",
    "version": 3
   },
   "file_extension": ".py",
   "mimetype": "text/x-python",
   "name": "python",
   "nbconvert_exporter": "python",
   "pygments_lexer": "ipython3",
   "version": "3.12.3"
  }
 },
 "nbformat": 4,
 "nbformat_minor": 4
}
