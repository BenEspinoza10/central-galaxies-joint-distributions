{
 "cells": [
  {
   "cell_type": "code",
   "execution_count": 163,
   "id": "0bcabdd8-4d78-429d-b079-2ad7a65764e5",
   "metadata": {},
   "outputs": [],
   "source": [
    "import h5py\n",
    "import numpy as np\n",
    "import pandas as pd"
   ]
  },
  {
   "cell_type": "code",
   "execution_count": 169,
   "id": "51f93e72-ff2c-4fa8-81f1-326adf89970b",
   "metadata": {},
   "outputs": [],
   "source": [
    "def load_data_from_hdf5(file_path):\n",
    "    with h5py.File(file_path, 'r') as file:        \n",
    "        x = np.array(file['SubGroups']['SubhaloGrNr']) \n",
    "        masa = np.array(file['SubGroups']['SubhaloMassType']) \n",
    "        sfr = np.array(file['SubGroups']['SubhaloSFR']) \n",
    "        radio = np.array(file['SubGroups']['SubhaloHalfmassRad'])\n",
    "        color_g = np.array(file['SubGroups']['SubhaloStellarPhotometrics_g'])\n",
    "        color_i = np.array(file['SubGroups']['SubhaloStellarPhotometrics_i'])\n",
    "    return x, masa, sfr, radio, color_g, color_i"
   ]
  },
  {
   "cell_type": "code",
   "execution_count": 170,
   "id": "6a3a83dd-64d4-4121-b385-3686475b55ab",
   "metadata": {},
   "outputs": [],
   "source": [
    "def load_data_from_csv(file_path):\n",
    "    data = pd.read_csv(file_path)\n",
    "    X = data.iloc[:, :].values      \n",
    "    return X"
   ]
  },
  {
   "cell_type": "code",
   "execution_count": 171,
   "id": "cf579493-cc68-497b-b2b2-8660c2c10581",
   "metadata": {},
   "outputs": [],
   "source": [
    "datos = load_data_from_csv('datos.csv')"
   ]
  },
  {
   "cell_type": "code",
   "execution_count": 172,
   "id": "6bb4ce6e-b2ed-4b94-a1b0-95c210ca47d1",
   "metadata": {},
   "outputs": [],
   "source": [
    "total, masa, sfr, radio, color_g, color_i= load_data_from_hdf5('Table_TNG300_snapshot99_wSpins_wEnv_ALL.hdf5')"
   ]
  },
  {
   "cell_type": "code",
   "execution_count": 173,
   "id": "12c83f8b-68f7-4bbe-b463-c88296455eef",
   "metadata": {},
   "outputs": [
    {
     "data": {
      "text/plain": [
       "array([-25.62843 , -24.891636, -23.062399, ..., -13.99965 , -13.331769,\n",
       "       -13.242294], dtype=float32)"
      ]
     },
     "execution_count": 173,
     "metadata": {},
     "output_type": "execute_result"
    }
   ],
   "source": [
    "color_g"
   ]
  },
  {
   "cell_type": "code",
   "execution_count": 243,
   "id": "0f044874-c1b8-4be9-8a79-764f127eb82c",
   "metadata": {},
   "outputs": [],
   "source": [
    "galaxia = []\n",
    "#for i in datos[:,0]:\n",
    "sSFR=0\n",
    "suma_masa = 0\n",
    "suma_sfr = 0\n",
    "suma_color_g_i = 0\n",
    "count = 0\n",
    "for j in range(len(total)-1):   \n",
    "    if total[j] == 9906:                \n",
    "        suma_masa = suma_masa + masa[j][4]\n",
    "        suma_sfr = suma_sfr + sfr[j]\n",
    "        suma_color_g_i = suma_color_g_i + (color_g[j] - color_i[j])    \n",
    "        count= count+1\n",
    "if (suma_masa != 0):\n",
    "    sSFR = (suma_sfr/suma_masa)/count\n",
    "if (sSFR == 0):\n",
    "    sSFR = np.random.normal(-13.5, 0.5)\n",
    "if np.log10(suma_masa) >= 8.75:\n",
    "    galaxia.append([9906,np.log10(suma_masa),sSFR,suma_color_g_i/count])\n",
    "    "
   ]
  },
  {
   "cell_type": "code",
   "execution_count": 244,
   "id": "8690918c-dfc4-48e5-beaf-b34a1b8fd497",
   "metadata": {},
   "outputs": [
    {
     "data": {
      "text/plain": [
       "[[9906, 10.86306076324244, 2.440552293802224e-13, 0.4626713301006116]]"
      ]
     },
     "execution_count": 244,
     "metadata": {},
     "output_type": "execute_result"
    }
   ],
   "source": [
    "galaxia"
   ]
  },
  {
   "cell_type": "code",
   "execution_count": 102,
   "id": "a53257f2-e1c6-4a39-b007-cde52028ffea",
   "metadata": {},
   "outputs": [
    {
     "data": {
      "text/plain": [
       "10.860003560930464"
      ]
     },
     "execution_count": 102,
     "metadata": {},
     "output_type": "execute_result"
    }
   ],
   "source": [
    "np.log10(7.244419e+10)"
   ]
  },
  {
   "cell_type": "code",
   "execution_count": 193,
   "id": "643e89a4-1d70-428d-9877-7307a731a27a",
   "metadata": {},
   "outputs": [
    {
     "data": {
      "text/plain": [
       "2.3185246791121127e-13"
      ]
     },
     "execution_count": 193,
     "metadata": {},
     "output_type": "execute_result"
    }
   ],
   "source": [
    "sSFR\n"
   ]
  },
  {
   "cell_type": "code",
   "execution_count": 216,
   "id": "b768fe9e-d998-4e1c-a561-86c4dcf8d98d",
   "metadata": {},
   "outputs": [
    {
     "data": {
      "text/plain": [
       "12.518747"
      ]
     },
     "execution_count": 216,
     "metadata": {},
     "output_type": "execute_result"
    }
   ],
   "source": [
    "np.log10(np.sum(masa[1418224]))"
   ]
  },
  {
   "cell_type": "code",
   "execution_count": 234,
   "id": "7e6c7dbf-97e4-4d7c-9041-afcce11a189d",
   "metadata": {},
   "outputs": [
    {
     "data": {
      "text/plain": [
       "19"
      ]
     },
     "execution_count": 234,
     "metadata": {},
     "output_type": "execute_result"
    }
   ],
   "source": [
    "count"
   ]
  },
  {
   "cell_type": "code",
   "execution_count": null,
   "id": "e6dfa3da-ca8e-4aa5-8cf0-a87336310b2a",
   "metadata": {},
   "outputs": [],
   "source": []
  }
 ],
 "metadata": {
  "kernelspec": {
   "display_name": "Python 3 (ipykernel)",
   "language": "python",
   "name": "python3"
  },
  "language_info": {
   "codemirror_mode": {
    "name": "ipython",
    "version": 3
   },
   "file_extension": ".py",
   "mimetype": "text/x-python",
   "name": "python",
   "nbconvert_exporter": "python",
   "pygments_lexer": "ipython3",
   "version": "3.12.3"
  }
 },
 "nbformat": 4,
 "nbformat_minor": 5
}
