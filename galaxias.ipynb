{
 "cells": [
  {
   "cell_type": "code",
   "execution_count": 1,
   "metadata": {},
   "outputs": [],
   "source": [
    "import h5py\n",
    "import numpy as np\n",
    "import pandas as pd"
   ]
  },
  {
   "cell_type": "markdown",
   "metadata": {},
   "source": [
    "# Cálculo"
   ]
  },
  {
   "cell_type": "code",
   "execution_count": 2,
   "metadata": {},
   "outputs": [],
   "source": [
    "with h5py.File('Table_TNG300_snapshot99_wSpins_wEnv_ALL.hdf5', 'r') as f:\n",
    "    # Leer los subgrupos necesarios\n",
    "    haloSubGr = np.array(f['SubGroups']['SubhaloGrNr']) \n",
    "    SubhaloMassType = f['SubGroups']['SubhaloMassType'][:]\n",
    "    SubhaloStellarPhotometrics_g = f['SubGroups']['SubhaloStellarPhotometrics_g'][:]\n",
    "    SubhaloStellarPhotometrics_i = f['SubGroups']['SubhaloStellarPhotometrics_i'][:]\n",
    "    SubhaloSFR = f['SubGroups']['SubhaloSFR'][:]\n",
    "    #SubhaloHalfmassRad = f['SubGroups']['SubhaloHalfmassRad'][:]\n",
    "    SubhaloHalfmassRadType = f['SubGroups']['SubhaloHalfmassRadType'][:]\n",
    "    "
   ]
  },
  {
   "cell_type": "code",
   "execution_count": 3,
   "metadata": {},
   "outputs": [
    {
     "data": {
      "text/plain": [
       "(3033931, 6)"
      ]
     },
     "execution_count": 3,
     "metadata": {},
     "output_type": "execute_result"
    }
   ],
   "source": [
    "SubhaloMassType.shape"
   ]
  },
  {
   "cell_type": "code",
   "execution_count": 4,
   "metadata": {},
   "outputs": [
    {
     "data": {
      "text/plain": [
       "array([[1.9187548e+14, 1.0860912e+15, 0.0000000e+00, 0.0000000e+00,\n",
       "        5.3094845e+12, 6.9895447e+10]], dtype=float32)"
      ]
     },
     "execution_count": 4,
     "metadata": {},
     "output_type": "execute_result"
    }
   ],
   "source": [
    "SubhaloMassType[:1]"
   ]
  },
  {
   "cell_type": "code",
   "execution_count": 5,
   "metadata": {},
   "outputs": [],
   "source": [
    "stellar_mass = SubhaloMassType[:, 4]"
   ]
  },
  {
   "cell_type": "code",
   "execution_count": 6,
   "metadata": {},
   "outputs": [
    {
     "data": {
      "text/plain": [
       "(3033931,)"
      ]
     },
     "execution_count": 6,
     "metadata": {},
     "output_type": "execute_result"
    }
   ],
   "source": [
    "stellar_mass.shape"
   ]
  },
  {
   "cell_type": "code",
   "execution_count": 7,
   "metadata": {},
   "outputs": [
    {
     "name": "stderr",
     "output_type": "stream",
     "text": [
      "C:\\Users\\bjnic\\AppData\\Local\\Temp\\ipykernel_3144\\2215814510.py:3: RuntimeWarning: divide by zero encountered in divide\n",
      "  sSFR = SubhaloSFR / SubhaloMassType[:, 4]\n",
      "C:\\Users\\bjnic\\AppData\\Local\\Temp\\ipykernel_3144\\2215814510.py:3: RuntimeWarning: invalid value encountered in divide\n",
      "  sSFR = SubhaloSFR / SubhaloMassType[:, 4]\n"
     ]
    }
   ],
   "source": [
    "color_g_i = SubhaloStellarPhotometrics_g - SubhaloStellarPhotometrics_i\n",
    "\n",
    "sSFR = SubhaloSFR / SubhaloMassType[:, 4]\n",
    "sSFR[sSFR == 0] = 10**-13.5\n",
    "\n",
    "galaxy_size = SubhaloHalfmassRadType[:,4]"
   ]
  },
  {
   "cell_type": "code",
   "execution_count": 8,
   "metadata": {},
   "outputs": [],
   "source": [
    "X = np.column_stack((haloSubGr, stellar_mass, color_g_i, galaxy_size, sSFR))"
   ]
  },
  {
   "cell_type": "code",
   "execution_count": 9,
   "metadata": {},
   "outputs": [],
   "source": [
    "stellar_mass_threshold = 10**8.75\n",
    "\n",
    "stellar_masses = X[:, 1]\n",
    "\n",
    "mask = stellar_masses >= stellar_mass_threshold\n",
    "\n",
    "X = X[mask]"
   ]
  },
  {
   "cell_type": "code",
   "execution_count": 10,
   "metadata": {},
   "outputs": [
    {
     "data": {
      "text/plain": [
       "(305066, 5)"
      ]
     },
     "execution_count": 10,
     "metadata": {},
     "output_type": "execute_result"
    }
   ],
   "source": [
    "X.shape"
   ]
  },
  {
   "cell_type": "code",
   "execution_count": 11,
   "metadata": {},
   "outputs": [
    {
     "data": {
      "text/plain": [
       "array([[9.90600000e+03, 6.15775642e+10, 1.12636185e+00, 5.49060392e+00,\n",
       "        3.16227757e-14],\n",
       "       [9.90600000e+03, 9.37944064e+09, 8.86205673e-01, 4.28508377e+00,\n",
       "        3.60682907e-11],\n",
       "       [9.90600000e+03, 1.48718784e+09, 9.76839066e-01, 6.37313700e+00,\n",
       "        3.16227757e-14]])"
      ]
     },
     "execution_count": 11,
     "metadata": {},
     "output_type": "execute_result"
    }
   ],
   "source": [
    "X[111346:111349]"
   ]
  },
  {
   "cell_type": "code",
   "execution_count": 12,
   "metadata": {},
   "outputs": [
    {
     "data": {
      "text/plain": [
       "array([[ 3.99589832e+00,  1.07894225e+01,  5.16779313e-02,\n",
       "         7.39620116e-01, -1.35000000e+01],\n",
       "       [ 3.99589832e+00,  9.97217694e+00, -5.24654741e-02,\n",
       "         6.31959317e-01, -1.04428744e+01],\n",
       "       [ 3.99589832e+00,  9.17236583e+00, -1.01769805e-02,\n",
       "         8.04353254e-01, -1.35000000e+01]])"
      ]
     },
     "execution_count": 12,
     "metadata": {},
     "output_type": "execute_result"
    }
   ],
   "source": [
    "np.log10(X[111346:111349])"
   ]
  },
  {
   "cell_type": "code",
   "execution_count": 13,
   "metadata": {},
   "outputs": [
    {
     "data": {
      "text/plain": [
       "(305066, 5)"
      ]
     },
     "execution_count": 13,
     "metadata": {},
     "output_type": "execute_result"
    }
   ],
   "source": [
    "X.shape"
   ]
  },
  {
   "cell_type": "code",
   "execution_count": 14,
   "metadata": {},
   "outputs": [],
   "source": [
    "unique_groups, indices = np.unique(X[:, 0], return_index=True)\n",
    "X = X[indices]"
   ]
  },
  {
   "cell_type": "code",
   "execution_count": 15,
   "metadata": {},
   "outputs": [
    {
     "data": {
      "text/plain": [
       "(174785, 5)"
      ]
     },
     "execution_count": 15,
     "metadata": {},
     "output_type": "execute_result"
    }
   ],
   "source": [
    "X.shape"
   ]
  },
  {
   "cell_type": "code",
   "execution_count": 16,
   "metadata": {},
   "outputs": [],
   "source": [
    "df = pd.DataFrame(X, columns=['SubhaloGrNr', 'stellar_mass', 'color_g_i', 'galaxy_size', 'sSFR'])"
   ]
  },
  {
   "cell_type": "code",
   "execution_count": 17,
   "metadata": {},
   "outputs": [],
   "source": [
    "df['stellar_mass'] = df['stellar_mass'].apply(np.log10)\n",
    "df['galaxy_size'] = df['galaxy_size'].apply(np.log10)\n",
    "df['sSFR'] = df['sSFR'].apply(np.log10)"
   ]
  },
  {
   "cell_type": "code",
   "execution_count": 18,
   "metadata": {},
   "outputs": [
    {
     "data": {
      "text/html": [
       "<div>\n",
       "<style scoped>\n",
       "    .dataframe tbody tr th:only-of-type {\n",
       "        vertical-align: middle;\n",
       "    }\n",
       "\n",
       "    .dataframe tbody tr th {\n",
       "        vertical-align: top;\n",
       "    }\n",
       "\n",
       "    .dataframe thead th {\n",
       "        text-align: right;\n",
       "    }\n",
       "</style>\n",
       "<table border=\"1\" class=\"dataframe\">\n",
       "  <thead>\n",
       "    <tr style=\"text-align: right;\">\n",
       "      <th></th>\n",
       "      <th>SubhaloGrNr</th>\n",
       "      <th>stellar_mass</th>\n",
       "      <th>color_g_i</th>\n",
       "      <th>galaxy_size</th>\n",
       "      <th>sSFR</th>\n",
       "    </tr>\n",
       "  </thead>\n",
       "  <tbody>\n",
       "    <tr>\n",
       "      <th>9906</th>\n",
       "      <td>9906.0</td>\n",
       "      <td>10.789423</td>\n",
       "      <td>1.126362</td>\n",
       "      <td>0.73962</td>\n",
       "      <td>-13.5</td>\n",
       "    </tr>\n",
       "  </tbody>\n",
       "</table>\n",
       "</div>"
      ],
      "text/plain": [
       "      SubhaloGrNr  stellar_mass  color_g_i  galaxy_size  sSFR\n",
       "9906       9906.0     10.789423   1.126362      0.73962 -13.5"
      ]
     },
     "execution_count": 18,
     "metadata": {},
     "output_type": "execute_result"
    }
   ],
   "source": [
    "df[9906:9907]"
   ]
  },
  {
   "cell_type": "code",
   "execution_count": 19,
   "metadata": {},
   "outputs": [
    {
     "data": {
      "text/html": [
       "<div>\n",
       "<style scoped>\n",
       "    .dataframe tbody tr th:only-of-type {\n",
       "        vertical-align: middle;\n",
       "    }\n",
       "\n",
       "    .dataframe tbody tr th {\n",
       "        vertical-align: top;\n",
       "    }\n",
       "\n",
       "    .dataframe thead th {\n",
       "        text-align: right;\n",
       "    }\n",
       "</style>\n",
       "<table border=\"1\" class=\"dataframe\">\n",
       "  <thead>\n",
       "    <tr style=\"text-align: right;\">\n",
       "      <th></th>\n",
       "      <th>SubhaloGrNr</th>\n",
       "      <th>stellar_mass</th>\n",
       "      <th>color_g_i</th>\n",
       "      <th>galaxy_size</th>\n",
       "      <th>sSFR</th>\n",
       "    </tr>\n",
       "  </thead>\n",
       "  <tbody>\n",
       "    <tr>\n",
       "      <th>58423</th>\n",
       "      <td>58430.0</td>\n",
       "      <td>9.915116</td>\n",
       "      <td>0.596603</td>\n",
       "      <td>0.648354</td>\n",
       "      <td>-9.830829</td>\n",
       "    </tr>\n",
       "  </tbody>\n",
       "</table>\n",
       "</div>"
      ],
      "text/plain": [
       "       SubhaloGrNr  stellar_mass  color_g_i  galaxy_size      sSFR\n",
       "58423      58430.0      9.915116   0.596603     0.648354 -9.830829"
      ]
     },
     "execution_count": 19,
     "metadata": {},
     "output_type": "execute_result"
    }
   ],
   "source": [
    "df[58423:58424]"
   ]
  },
  {
   "cell_type": "code",
   "execution_count": 20,
   "metadata": {},
   "outputs": [
    {
     "data": {
      "text/html": [
       "<div>\n",
       "<style scoped>\n",
       "    .dataframe tbody tr th:only-of-type {\n",
       "        vertical-align: middle;\n",
       "    }\n",
       "\n",
       "    .dataframe tbody tr th {\n",
       "        vertical-align: top;\n",
       "    }\n",
       "\n",
       "    .dataframe thead th {\n",
       "        text-align: right;\n",
       "    }\n",
       "</style>\n",
       "<table border=\"1\" class=\"dataframe\">\n",
       "  <thead>\n",
       "    <tr style=\"text-align: right;\">\n",
       "      <th></th>\n",
       "      <th>SubhaloGrNr</th>\n",
       "      <th>stellar_mass</th>\n",
       "      <th>color_g_i</th>\n",
       "      <th>galaxy_size</th>\n",
       "      <th>sSFR</th>\n",
       "    </tr>\n",
       "  </thead>\n",
       "  <tbody>\n",
       "    <tr>\n",
       "      <th>29920</th>\n",
       "      <td>29920.0</td>\n",
       "      <td>10.343463</td>\n",
       "      <td>0.97584</td>\n",
       "      <td>0.597454</td>\n",
       "      <td>-11.411541</td>\n",
       "    </tr>\n",
       "  </tbody>\n",
       "</table>\n",
       "</div>"
      ],
      "text/plain": [
       "       SubhaloGrNr  stellar_mass  color_g_i  galaxy_size       sSFR\n",
       "29920      29920.0     10.343463    0.97584     0.597454 -11.411541"
      ]
     },
     "execution_count": 20,
     "metadata": {},
     "output_type": "execute_result"
    }
   ],
   "source": [
    "df[29920:29921]"
   ]
  },
  {
   "cell_type": "code",
   "execution_count": 21,
   "metadata": {},
   "outputs": [
    {
     "data": {
      "text/plain": [
       "(174785, 5)"
      ]
     },
     "execution_count": 21,
     "metadata": {},
     "output_type": "execute_result"
    }
   ],
   "source": [
    "df.shape"
   ]
  },
  {
   "cell_type": "code",
   "execution_count": 22,
   "metadata": {},
   "outputs": [],
   "source": [
    "df = df.dropna()"
   ]
  },
  {
   "cell_type": "code",
   "execution_count": 23,
   "metadata": {},
   "outputs": [
    {
     "data": {
      "text/plain": [
       "(174785, 5)"
      ]
     },
     "execution_count": 23,
     "metadata": {},
     "output_type": "execute_result"
    }
   ],
   "source": [
    "df.shape"
   ]
  },
  {
   "cell_type": "code",
   "execution_count": 24,
   "metadata": {},
   "outputs": [],
   "source": [
    "df = df.drop_duplicates()"
   ]
  },
  {
   "cell_type": "code",
   "execution_count": 25,
   "metadata": {},
   "outputs": [
    {
     "data": {
      "text/plain": [
       "(174785, 5)"
      ]
     },
     "execution_count": 25,
     "metadata": {},
     "output_type": "execute_result"
    }
   ],
   "source": [
    "df.shape"
   ]
  },
  {
   "cell_type": "code",
   "execution_count": 26,
   "metadata": {},
   "outputs": [],
   "source": [
    "df.to_csv('galaxias.csv')"
   ]
  }
 ],
 "metadata": {
  "kernelspec": {
   "display_name": "Python 3 (ipykernel)",
   "language": "python",
   "name": "python3"
  },
  "language_info": {
   "codemirror_mode": {
    "name": "ipython",
    "version": 3
   },
   "file_extension": ".py",
   "mimetype": "text/x-python",
   "name": "python",
   "nbconvert_exporter": "python",
   "pygments_lexer": "ipython3",
   "version": "3.12.3"
  }
 },
 "nbformat": 4,
 "nbformat_minor": 4
}
